{
 "cells": [
  {
   "cell_type": "markdown",
   "id": "546e336c",
   "metadata": {},
   "source": [
    "<div style=\"padding-bottom:50px\">\n",
    "<img src=\"https://res.cloudinary.com/djz27k5hg/image/upload/v1637335206/logos/Logo_des_Forschungszentrums_J_C3_BClich_seit_2018_hcliq4.svg\"  width=250 align='left' style=\"margin-top:30px\"/>\n",
    "<img src=\"https://res.cloudinary.com/djz27k5hg/image/upload/v1637657234/logos/HBP_horizontal_logo_qtcyzn.png\" width=\"300\" align='left' style=\"margin-left:50px\">\n",
    "<img src=\"https://res.cloudinary.com/djz27k5hg/image/upload/v1637333672/logos/ebrains_logo_swnlzv.png\" width=\"280\" align='left' style=\"margin-left:50px; margin-top:25px\">\n",
    "</div>  \n",
    "\n",
    "<br><br><br><br>\n",
    "<br>\n",
    "\n",
    "# Simulation of  dose-response curves of agonists using kinetic values\n",
    "\n",
    "In this tutorial we will simulate mathematical model of a signaling pathway to obtain dose-response curves, and consequently, predict the *efficacy (EC$_{50}$)* of drugs. \n",
    "\n",
    "This tutorial and the rest in this sequence can be done in Google colab. If you'd like to open this notebook in colab, you can use the following link.\n",
    "\n",
    "<div style='padding:15px'>\n",
    "<a href=\"https://colab.research.google.com/github/rribeiro-sci/SSBtoolkit/blob/main/Tutorials/SSBtoolkit-Tutorial3A.ipynb\" target=\"_blank\">\n",
    "<img alt=\"Colab\" src=\"https://res.cloudinary.com/djz27k5hg/image/upload/v1637335713/badges/colab-badge_hh0uyl.svg\" height=\"25\" style=\"margin:20px\">\n",
    "</a>\n",
    "</div> \n",
    "\n",
    "\n",
    "## Installing the SSB toolkit library"
   ]
  },
  {
   "cell_type": "code",
   "execution_count": null,
   "id": "670f7c92",
   "metadata": {},
   "outputs": [],
   "source": [
    "!pip install --quiet ssbtoolkit"
   ]
  },
  {
   "attachments": {},
   "cell_type": "markdown",
   "id": "8dd8ac89",
   "metadata": {},
   "source": [
    "Run the following if you are working on Google colab"
   ]
  },
  {
   "cell_type": "code",
   "execution_count": null,
   "id": "94cc4778",
   "metadata": {},
   "outputs": [],
   "source": [
    "import os\n",
    "os.kill(os.getpid(), 9)"
   ]
  },
  {
   "cell_type": "markdown",
   "id": "94ae8051",
   "metadata": {},
   "source": [
    "### Importing dependencies"
   ]
  },
  {
   "cell_type": "code",
   "execution_count": null,
   "id": "1141a5ff",
   "metadata": {},
   "outputs": [],
   "source": [
    "import numpy as np\n",
    "import pandas as pd\n",
    "import ssbtoolkit as ssb"
   ]
  },
  {
   "attachments": {},
   "cell_type": "markdown",
   "id": "bb4a765f",
   "metadata": {},
   "source": [
    "Run the following command if you are working on the Ebrains platform"
   ]
  },
  {
   "cell_type": "code",
   "execution_count": null,
   "id": "981fd45d",
   "metadata": {},
   "outputs": [],
   "source": [
    "import os\n",
    "os.environ['BNGPATH'] = '/opt/app-root/src/.local/lib/python3.8/site-packages/bionetgen/bng-linux/'"
   ]
  },
  {
   "cell_type": "markdown",
   "id": "f77f902a",
   "metadata": {},
   "source": [
    "## Loading experimental data\n",
    "\n",
    "Once the SSBtoolkit environment is set up we are ready to start to simulate.\n",
    "\n",
    "We will begin by loading the kinetic data of some ligands of the Adenosine 2A receptor. This data was taken from *([Guo, D. et al., 2017](https://pubs.acs.org/doi/10.1021/acs.chemrev.6b00025))*. This data can be found directly downloaded from the repository."
   ]
  },
  {
   "cell_type": "code",
   "execution_count": null,
   "id": "76d52fda",
   "metadata": {},
   "outputs": [],
   "source": [
    "!curl -s -O https://raw.githubusercontent.com/rribeiro-sci/SSBtoolkit/main/example/A2AR_Kinetic_values_example.csv"
   ]
  },
  {
   "cell_type": "code",
   "execution_count": null,
   "id": "50ccd993",
   "metadata": {},
   "outputs": [],
   "source": [
    "data = pd.read_csv('A2AR_Kinetic_values_example.csv')\n",
    "data"
   ]
  },
  {
   "cell_type": "markdown",
   "id": "ca387573",
   "metadata": {},
   "source": [
    "Commonly the kinetic parameters, k<sub>on</sub> and k<sub>off</sub>, are measured experimentally at low temperatures in order to slow down the reaction, so it can be measured. Therefore, we will use the SSBtoolkit built-in function `Utils.KineticTempScale()` to scale the kinetic parameters to room temperature (25 °C). This is achieved using the free energy equation:\n",
    "\n",
    "$ \\Delta G = -RTln(K_d)$ \n",
    "\n",
    "$K_d = \\frac{k_{off}}{k_{on}}$"
   ]
  },
  {
   "cell_type": "code",
   "execution_count": null,
   "id": "a8f7d20b",
   "metadata": {},
   "outputs": [],
   "source": [
    "#We will create a new dataframe with the scaled values \n",
    "data_scaled = data.copy()\n",
    "data_scaled['kon (1/(uM*s))'] = data.apply(lambda row: ssb.Utils.KineticTempScale(row['kon (1/(uM*s))'],row['koff (1/s)'], row['T (°C)'], 25, Tu='C')[0], axis=1)\n",
    "data_scaled['koff (1/s)'] = data.apply(lambda row: ssb.Utils.KineticTempScale(row['kon (1/(uM*s))'],row['koff (1/s)'], row['T (°C)'], 25, Tu='C')[1], axis=1)\n",
    "data_scaled['T (°C)'] = 25\n",
    "data_scaled"
   ]
  },
  {
   "cell_type": "markdown",
   "id": "a6c4a005",
   "metadata": {},
   "source": [
    "## Selection of the signaling pathway \n",
    "\n",
    "The core of the SSB framework is, naturally, the mathematical models of the GPCRs' signaling pathways. \n",
    "\n",
    "Since G-protein sub-families are classified by their $\\alpha$ subunits, this classfication as been served to identify their signaling pathways:\n",
    "* G<sub>s</sub>\n",
    "* G<sub>i/o</sub>\n",
    "* G<sub>q/11</sub>\n",
    "* G<sub>12/13</sub>\n",
    "\n",
    "📖 See [The SSB toolkit](https://ssbtoolkit.readthedocs.io/) documentation for more details.\n",
    "\n",
    "We can define manualy the G$\\alpha$ pathway we want to work with, or simply query our internal database of human GPCR pathways using the UNIPROT id of our receptor using the SSBtoolkit built-in function `Utils.GetGProtein()`. The UNIPROT id for the human Adenosine A2 receptot is [P29274](https://www.uniprot.org/uniprot/P29274)."
   ]
  },
  {
   "cell_type": "code",
   "execution_count": null,
   "id": "0fc98ab5",
   "metadata": {},
   "outputs": [],
   "source": [
    "uniprotID = 'P29274'\n",
    "gprotein=ssb.Utils.GetGProtein(uniprotID)\n",
    "gprotein"
   ]
  },
  {
   "cell_type": "markdown",
   "id": "4cc11bca",
   "metadata": {},
   "source": [
    "<span style=\"color:black\">⚠️ WARNING: our toolkit was specifically design for human GPCRs. The quering for pathways for GPCRs other than Human may be included in the future. However, if you want to study a non-human GPCR you can still use the SSB toolkit by setting manually the G$\\alpha$ pathway.</span>"
   ]
  },
  {
   "cell_type": "markdown",
   "id": "bb8ea233",
   "metadata": {},
   "source": [
    "##  Preparation, Simulation and Analysis\n",
    "\n",
    "To obtain a dose-response curve from the simulation of signaling pathways, individual simulations of the pathway according to a series of ligand concentrations must be performed (as it would be done in the wet-lab).  \n",
    "\n",
    "To define an array of ligand concentrations we will use a geometric progression. The reason why we use a geometric progression is due to the impact of the dilution fraction on the accuracy of K<sub>d</sub> and EC<sub>50</sub>/IC<sub>50</sub> values experimentally estimated. This factor, that defines the spacing between the adjacent concentration values, has an impact on the concentration values that are on the linear portion of the curve. Therefore, using a geometric progression we can mimic the experimental conditions where each concentration equals to the power of 2 of the previous lowest concentration *([Sebaugh, J.L., 2011](https://doi.org/10.1002/pst.426))*\n",
    "\n",
    "<span style=\"color:black\"> ⚠️ WARNING: the SSB toolkit uses μM as default concentration units.</span>\n"
   ]
  },
  {
   "cell_type": "code",
   "execution_count": null,
   "id": "8177d2e3",
   "metadata": {},
   "outputs": [],
   "source": [
    "# setting the range of ligand concentration\n",
    "lig_conc_min = 1E-4 # μM\n",
    "lig_conc_max = 1E4  # μM\n",
    "lig_conc_range = np.geomspace(lig_conc_min, lig_conc_max, 20) # 20 concentration values\n",
    "\n",
    "# Setting receptor concentration\n",
    "receptor_conc = 1E-3 #μM\n",
    "\n",
    "# defining other simulation parameters:\n",
    "time = 10000  # time of simulation in seconds\n",
    "nsteps = 1000   # number of time steps"
   ]
  },
  {
   "cell_type": "markdown",
   "id": "d7851691",
   "metadata": {},
   "source": [
    "## Integration of ODEs \n",
    "\n",
    "After having defined all the simulation parameters we are ready to proceed with the simulations. A simulation of a methamatical model of a signaling pathway consists of the integration of a set of ordinary differential equations (ODEs) as function of time. Since each ODE represents a molecular event of the signaling pathway, when integrated over time, such equations can describe how the concentration of species inside the model changes over time.\n",
    "\n",
    "In the <b>Tutorial1</b>, the key point is using  the drug-receptor affinity value (K<sub>d</sub>) to fire up the model. However, in this tutorial we will use the kinetic parameters to simulate the ligand-receptor binding.\n",
    "\n",
    "Because we are using kinetic values we have to set `kinetics=True` in the `Simulation.Activation.SetSimulationParameters()` instance. If we use option `kinetcs=True`, we also need to pass to the instance a dictionary of parameters. We can see a list of all parameters that can be changed for each pathway [here](https://github.com/rribeiro-sci/SSBtoolkit/tree/main/SI).\n",
    "\n",
    "For this tutorial we just need to include the following kinetic parameters:\n",
    "* `RL_kon` for the ligand-receptor interaction forward parameter (μM<sup>-1</sup>s<sup>-1</sup>)\n",
    "* `RL_koff` for the ligand-receptor interaction reverse parameter (s<sup>-1</sup>)"
   ]
  },
  {
   "cell_type": "code",
   "execution_count": null,
   "id": "fbd348c1",
   "metadata": {},
   "outputs": [],
   "source": [
    "#preparing the parameters for each ligand:\n",
    "kinetic_parameters=[]\n",
    "for k, v in data_scaled.iterrows():\n",
    "    kinetic_parameters.append({'RL_kon':v['kon (1/(uM*s))'],'RL_koff':v['koff (1/s)']})"
   ]
  },
  {
   "cell_type": "code",
   "execution_count": null,
   "id": "2a2d1ab6",
   "metadata": {},
   "outputs": [],
   "source": [
    "#creating a simulation instance\n",
    "sim = ssb.Simulation.Activation()"
   ]
  },
  {
   "cell_type": "code",
   "execution_count": null,
   "id": "db152c02",
   "metadata": {},
   "outputs": [],
   "source": [
    "#Setting the simulation parameters\n",
    "sim.SetSimulationParameters(ligands=data_scaled.cmpd.to_list()[0:2], \n",
    "                            pathway=gprotein, \n",
    "                            receptor_conc=receptor_conc, \n",
    "                            lig_conc_range=lig_conc_range, \n",
    "                            ttotal=time, \n",
    "                            nsteps=nsteps,  \n",
    "                            binding_kinetics=True, \n",
    "                            binding_kinetic_parameters=kinetic_parameters)"
   ]
  },
  {
   "cell_type": "code",
   "execution_count": null,
   "id": "ee0e4a36",
   "metadata": {},
   "outputs": [],
   "source": [
    "#Start the simulation\n",
    "sim.Run()"
   ]
  },
  {
   "cell_type": "markdown",
   "id": "ef1021a2",
   "metadata": {},
   "source": [
    "In the end, the concentration values of the species of the signaling pathway over the simulation time will be saved inside the instance.\n",
    "\n",
    "The response of a signaling pathway is, naturally, represented by the increase or decrease of one of the species described by the model. So, to predict the dose-response curve we need, firstly, to extract the maximum concentration value orbserved for one specie from each individual simulation (from the series of simulations for each ligand concentration). Then, such values will be fitted to a logistic regression. \n",
    "\n",
    "To achieve this, we will use the analysis function:"
   ]
  },
  {
   "cell_type": "code",
   "execution_count": null,
   "id": "7e425249",
   "metadata": {},
   "outputs": [],
   "source": [
    "sim.Analysis()"
   ]
  },
  {
   "cell_type": "markdown",
   "id": "4ad91b47",
   "metadata": {},
   "source": [
    "We can now to plot the dose-response curves:"
   ]
  },
  {
   "cell_type": "code",
   "execution_count": null,
   "id": "bbf053a8",
   "metadata": {},
   "outputs": [],
   "source": [
    "sim.ShowCurve()"
   ]
  },
  {
   "cell_type": "markdown",
   "id": "36b11a2d",
   "metadata": {},
   "source": [
    "Finnaly, from the dose-response curves we can interpolate the EC<sub>50</sub> values.\n"
   ]
  },
  {
   "cell_type": "code",
   "execution_count": null,
   "id": "da169f05",
   "metadata": {},
   "outputs": [],
   "source": [
    "sim.ShowPotency()"
   ]
  },
  {
   "cell_type": "markdown",
   "id": "99c39d5d",
   "metadata": {},
   "source": [
    "💡 The potency predicted values can be exported as a python dictionary using the function `sim.PotencyToDict()` or saved in a csv file: `sim.PotencyToCSV()`. "
   ]
  },
  {
   "cell_type": "markdown",
   "id": "a7c9bbc4",
   "metadata": {},
   "source": [
    "## Congratulations! \n",
    "\n",
    "Congratulations on completing this tutorial notebook! If you enjoyed working through the tutorial, and want to continue working with SSBtoolkit, we encourage you to finish the rest of the tutorials in this series. \n",
    "\n",
    "## Cite Us\n",
    "\n",
    "If you use or adapt this tutorial for your own research projects please cite us.\n",
    "\n",
    "```\n",
    "@article{ribeiro_ssb_2022,\n",
    "    title={{SSB} toolkit: from molecular structure to subcellular signaling pathways.},\n",
    "    author={Ribeiro, Rui Pedro and Gossen, Jonas and Rossetti, Giulia and Giorgetti, Alejandro},\n",
    "    publisher={bioRxiv},\n",
    "    url={https://www.biorxiv.org/content/10.1101/2022.11.08.515595v1},\n",
    "    doi={10.1101/2022.11.08.515595},\n",
    "    year={2022}\n",
    "}\n",
    "```\n",
    "\n",
    "\n",
    "## Acknowledgments\n",
    "\n",
    "EU Human Brain Project (SGA1 and SGA2): This open source software was developed in part in the Human Brain Project funded from the European Union's Horizon 2020 Framework Programme for Research and Innovation under Specific Grant Agreements No 720270 and No. 78907 (Human Brain Project SGA1 and SGA2).\n",
    "\n",
    "<div style=\"padding-bottom:50px\">\n",
    "<img src=\"https://res.cloudinary.com/djz27k5hg/image/upload/v1637657234/logos/HBP_horizontal_logo_qtcyzn.png\" width=\"300\" align='left' style=\"margin-left:50px\">\n",
    "    <img src=\"https://res.cloudinary.com/djz27k5hg/image/upload/v1642677502/logos/COFUNDED_EU_j2ktlp.jpg\" width=\"300\" align='left' style=\"margin-left:50px\">\n",
    "</div>  "
   ]
  }
 ],
 "metadata": {
  "kernelspec": {
   "display_name": "Python 3.7.9 64-bit ('3.7.9')",
   "language": "python",
   "name": "python3"
  },
  "language_info": {
   "codemirror_mode": {
    "name": "ipython",
    "version": 3
   },
   "file_extension": ".py",
   "mimetype": "text/x-python",
   "name": "python",
   "nbconvert_exporter": "python",
   "pygments_lexer": "ipython3",
   "version": "3.7.9"
  },
  "vscode": {
   "interpreter": {
    "hash": "f5106a7df1aca81d027a662f3c4d70ef9fea3464588864be4c46d1e60135a17c"
   }
  }
 },
 "nbformat": 4,
 "nbformat_minor": 5
}
