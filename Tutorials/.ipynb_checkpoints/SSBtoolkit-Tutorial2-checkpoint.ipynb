{
 "cells": [
  {
   "cell_type": "markdown",
   "id": "47f44294",
   "metadata": {},
   "source": [
    "<div style=\"padding-bottom:50px\">\n",
    "<img src=\"https://res.cloudinary.com/djz27k5hg/image/upload/v1637335206/logos/Logo_des_Forschungszentrums_J_C3_BClich_seit_2018_hcliq4.svg\"  width=250 align='left' style=\"margin-top:30px\"/>\n",
    "<img src=\"https://res.cloudinary.com/djz27k5hg/image/upload/v1637657234/logos/HBP_horizontal_logo_qtcyzn.png\" width=\"300\" align='left' style=\"margin-left:50px\">\n",
    "<img src=\"https://res.cloudinary.com/djz27k5hg/image/upload/v1637333672/logos/ebrains_logo_swnlzv.png\" width=\"280\" align='left' style=\"margin-left:50px; margin-top:25px\">\n",
    "</div> \n",
    "\n",
    "<br><br><br><br>\n",
    "<br>\n",
    "\n",
    "# Simulation of dose-response curves of antagonists using affinity values\n",
    "\n",
    "In this tutorial, we will simulate a mathematical model of a signaling pathway to obtain dose-response curves of antagonists, from which the *potencies (IC$_{50}$)* values can be inferred. \n",
    "\n",
    "\n",
    "<div style='padding:15px'>\n",
    "<a href=\"https://colab.research.google.com/github/rribeiro-sci/SSBtoolkit/blob/main/Tutorials/SSBtoolkit-Tutorial2.ipynb\" target=\"_blank\">\n",
    "<img alt=\"Colab\" src=\"https://res.cloudinary.com/djz27k5hg/image/upload/v1637335713/badges/colab-badge_hh0uyl.svg\" height=\"25\" style=\"margin:20px\">\n",
    "</a>\n",
    "</div>  \n"
   ]
  },
  {
   "cell_type": "markdown",
   "id": "f3721aa6",
   "metadata": {},
   "source": [
    "## Installing the SSB toolkit library"
   ]
  },
  {
   "cell_type": "code",
   "execution_count": null,
   "id": "6290267a",
   "metadata": {},
   "outputs": [],
   "source": [
    "%%capture\n",
    "!pip install --quiet ssbtoolkit"
   ]
  },
  {
   "cell_type": "markdown",
   "id": "1212b460",
   "metadata": {},
   "source": [
    "If you are working within the **Google Colaboratory** environment, please execute the subsequent cell to mitigate potential version compatibility issues. If not, proceed directly to the next step."
   ]
  },
  {
   "cell_type": "code",
   "execution_count": null,
   "id": "6af8c8b4",
   "metadata": {},
   "outputs": [],
   "source": [
    "import os\n",
    "os.kill(os.getpid(), 9)"
   ]
  },
  {
   "cell_type": "markdown",
   "id": "1d7a5524",
   "metadata": {},
   "source": [
    "### Importing sependencies"
   ]
  },
  {
   "cell_type": "code",
   "execution_count": null,
   "id": "19fb8a0b",
   "metadata": {},
   "outputs": [],
   "source": [
    "import ssbtoolkit as ssb\n",
    "import numpy as np\n",
    "import pandas as pd"
   ]
  },
  {
   "cell_type": "markdown",
   "id": "bb4a765f",
   "metadata": {},
   "source": [
    "If you are using the **Ebrains Platform**, execute the following cell to set up the environment. If you are not using **Ebrains**, skip the following step and proceed with the tutorial."
   ]
  },
  {
   "cell_type": "code",
   "execution_count": null,
   "id": "981fd45d",
   "metadata": {},
   "outputs": [],
   "source": [
    "import os\n",
    "os.environ['BNGPATH'] = '/opt/app-root/src/.local/lib/python3.8/site-packages/bionetgen/bng-linux/'"
   ]
  },
  {
   "cell_type": "markdown",
   "id": "de2b73ec",
   "metadata": {},
   "source": [
    "## Loading experimental data"
   ]
  },
  {
   "cell_type": "markdown",
   "id": "f1363405",
   "metadata": {},
   "source": [
    "Once the SSBtoolkit environment is set up, we are ready to start the simulation.\n",
    "\n",
    "We will begin by loading the affinity data for the Adenosine 2A receptor, including data for its natural ligand (adenosine) as well as some antagonists. The experimental values were obtained from the *[Guide to Pharmacology](https://www.guidetopharmacology.org/GRAC/ObjectDisplayForward?objectId=19&familyId=3&familyType=GPCR) website*. This data can be downloaded directly from the repository with the following command:"
   ]
  },
  {
   "cell_type": "code",
   "execution_count": null,
   "id": "0fe7bee1",
   "metadata": {},
   "outputs": [],
   "source": [
    "!curl -s -O https://raw.githubusercontent.com/rribeiro-sci/SSBtoolkit/main/data/A2AR_antagonists_data.csv"
   ]
  },
  {
   "cell_type": "code",
   "execution_count": null,
   "id": "04434f16",
   "metadata": {},
   "outputs": [],
   "source": [
    "data = pd.read_csv('A2AR_antagonists_data.csv')\n",
    "data"
   ]
  },
  {
   "cell_type": "markdown",
   "id": "7e190d72",
   "metadata": {},
   "source": [
    "In <b>Tutorial1</b>, the affinity values were directly used to calculate the fraction of occupied receptors according to occupancy theory. This approach is valid only for agonists. In this tutorial, however, we will simulate competitive antagonism. By definition, a competitive antagonist inhibits the action of an agonist but has no effect in the absence of the agonist.\n",
    "\n",
    "To calculate the fraction of occupied receptors by agonists in the presence of an antagonist, we use the following equation:\n",
    "\n",
    "$\\frac{[L_1R]}{{R_{total}}}=\\frac{[L_1]}{[L_1]+K_{d_{L1}}\\big(1+\\frac{[L_2]}{K_{d_{L2}}}\\big)}$\n",
    "\n",
    "In experimental settings, antagonist studies are typically conducted through radioligand binding assays. In these assays, the receptor is first saturated with the agonist, and then aliquots of the antagonist are added to the system to generate an inhibition curve.\n",
    "\n",
    "To replicate this experiment *in silico*, we need to start by calculating the concentration of the radioligand/agonist (in this case, adenosine) that saturates the receptor. We will use the SSB Toolkit’s built-in function `Binding.Bind()`to obtain a ligand-receptor binding curve. Then, we will use the `SubMaxConcentration()` method to interpolate the submaximal (saturating) concentration value.\n",
    "\n",
    "\n",
    "📖 For more details, refer to the [The SSB toolkit](https://ssbtoolkit.readthedocs.io/) documentation.\n"
   ]
  },
  {
   "cell_type": "code",
   "execution_count": null,
   "id": "f6ee67bf",
   "metadata": {},
   "outputs": [],
   "source": [
    "# Setting the ligand concentration range\n",
    "lig_conc_min = 1E-4 # μM\n",
    "lig_conc_max = 1E2 # μM\n",
    "lig_conc_range = np.geomspace(lig_conc_min, lig_conc_max, 20)\n",
    "\n",
    "# Setting receptor's concentration\n",
    "receptor_conc = 1E-3 #μM\n",
    "\n",
    "# Getting adenosine pKi from experimental data\n",
    "adenosine_pKi = data[data.Compound == 'adenosine'].pKi.item()"
   ]
  },
  {
   "cell_type": "code",
   "execution_count": null,
   "id": "62d2a3e1",
   "metadata": {},
   "outputs": [],
   "source": [
    "# To obtain the ligand-receptor binding curve for adenosine we will start by initiating a binding instance\n",
    "adenosine_binding = ssb.Binding()\n",
    "\n",
    "# Performing the binding calculation\n",
    "adenosine_binding.Bind(receptor_conc=receptor_conc, lig_conc_range=lig_conc_range, pKd=adenosine_pKi)\n",
    "\n",
    "#Extraction of the submaximal concentration value\n",
    "adenosine_binding.SubMaxConcentration()\n",
    "\n",
    "#Plot of the ligand-receptor binding curve\n",
    "adenosine_binding.ShowCurve()"
   ]
  },
  {
   "cell_type": "markdown",
   "id": "1574b00d",
   "metadata": {},
   "source": [
    "The submaximal concentration value can be accessed using the `submax_concentration` attribute"
   ]
  },
  {
   "cell_type": "code",
   "execution_count": null,
   "id": "7da98638",
   "metadata": {},
   "outputs": [],
   "source": [
    "submax = adenosine_binding.submax_concentration\n",
    "submax"
   ]
  },
  {
   "cell_type": "markdown",
   "id": "6c08db6c",
   "metadata": {},
   "source": [
    "Once we have the submaximal concentration value of adenosine that saturates the receptor, we can calculate the fraction of receptors occupied by adenosine in the presence of various antagonist concentrations. This calculation is performed automatically during the simulation."
   ]
  },
  {
   "cell_type": "markdown",
   "id": "4cea3863",
   "metadata": {},
   "source": [
    "## Selection of the signaling pathway \n",
    "\n",
    "The core of the SSB framework is, naturally, the mathematical models of GPCR signaling pathways.\n",
    "\n",
    "G-protein sub-families are classified by their $\\alpha$ subunits, which are used to identify their corresponding signaling pathways:\n",
    "\n",
    "* G<sub>s</sub>\n",
    "* G<sub>i/o</sub>\n",
    "* G<sub>q/11</sub>\n",
    "* G<sub>12/13</sub>\n",
    "\n",
    "📖 For more details, refer to the [The SSB toolkit](https://ssbtoolkit.readthedocs.io/) documentation.\n",
    "\n",
    "You can manually define the G$\\alpha$ pathway you want to work with, or use the SSB Toolkit’s built-in function `Utils.GetGProtein()` to query our internal database of human GPCR pathways using the UNIPROT ID of the receptor. The UNIPROT ID for the human Adenosine A2 receptor is [P29274](https://www.uniprot.org/uniprot/P29274).\n",
    "\n"
   ]
  },
  {
   "cell_type": "code",
   "execution_count": null,
   "id": "4082b7bc",
   "metadata": {},
   "outputs": [],
   "source": [
    "uniprotID = 'P29274'\n",
    "gprotein = ssb.Utils.GetGProtein(uniprotID)\n",
    "gprotein"
   ]
  },
  {
   "cell_type": "markdown",
   "id": "22e1a045",
   "metadata": {},
   "source": [
    "<span style=\"color:black\">⚠️ WARNING: The toolkit is specifically designed for human GPCRs. Querying pathways for GPCRs other than human may be included in future updates. However, if you wish to study a non-human GPCR, you can still use the SSB Toolkit by manually setting the G$\\alpha$ pathway.</span>\n"
   ]
  },
  {
   "cell_type": "markdown",
   "id": "132e0f01",
   "metadata": {},
   "source": [
    "##  Preparation, Simulation and Analysis\n",
    "\n",
    "To obtain a dose-response curve from the simulation of signaling pathways, you need to perform individual simulations of the pathway across a series of ligand concentrations, similar to what would be done in a wet lab.\n",
    "\n",
    "We will define an array of ligand concentrations using a geometric progression. This approach is chosen because it addresses the impact of dilution fractions on the accuracy of experimentally estimated K<sub>d</sub> and EC<sub>50</sub>/IC<sub>50</sub> values. The spacing between adjacent concentration values affects the precision of the measurements, particularly in the linear portion of the curve. By using a geometric progression, we can better simulate experimental conditions where each concentration is a power of 2 of the previous concentration *[Sebaugh, J.L., 2011](https://doi.org/10.1002/pst.426)*\n",
    "\n",
    "<span style=\"color:black\"> ⚠️ WARNING: The SSB toolkit uses μM as default unit for concentration values.</span>"
   ]
  },
  {
   "cell_type": "code",
   "execution_count": null,
   "id": "dc61e7c6",
   "metadata": {},
   "outputs": [],
   "source": [
    "# the range of ligand concentration\n",
    "lig_conc_min = 1E-4 # μM\n",
    "lig_conc_max = 1E4  # μM\n",
    "lig_conc_range = np.geomspace(lig_conc_min, lig_conc_max, 20) # 20 concentration values\n",
    "\n",
    "# Setting receptor concentration\n",
    "receptor_conc = 1E-3 #μM\n",
    "\n",
    "# defining other simulation parameters:\n",
    "time = 10000  # time of simulation in seconds\n",
    "nsteps = 1000   # number of time steps"
   ]
  },
  {
   "cell_type": "markdown",
   "id": "53e52b1b",
   "metadata": {},
   "source": [
    "## Integration of ODEs \n",
    "\n",
    "Once all the simulation parameters have been defined, we are ready to proceed with the simulations. Simulating a mathematical model of a signaling pathway involves integrating a set of ordinary differential equations (ODEs) over time. Each ODE represents a molecular event within the signaling pathway, and integrating these equations describes how the concentration of species in the model changes over time.\n",
    "\n",
    "A key aspect of this tutorial is using the drug-receptor affinity value (K<sub>d</sub>) to initiate the model. With K<sub>d</sub> values, we can calculate the fraction of receptors occupied by the ligand at equilibrium. According to *occupancy theory*, this fraction represents the concentration of activated receptors at equilibrium *[Kenakin T., 2004 ](https://doi.org/10.1016/j.tips.2004.02.012)*. 📖 For more details, refer to the [Docs](https://ssbtoolkit.readthedocs.io/).\n",
    "\n",
    "\n",
    "In this tutorial, we will simulate dose-response curves of antagonists targeting the Adenosine A2 receptor using the SSB Toolkit’s built-in class`Simulation.Inhibition()`. \n",
    "\n",
    "\n",
    "<span style='color:black'>ℹ️ If you are interested in studying agonists, follow the tutorial on [Simulation of dose-response curves of agonists using affinity values](https://github.com/rribeiro-sci/SSBtoolkit/blob/main/Tutorials/SSBtoolkit-Tutorial1.ipynb).</span>\n"
   ]
  },
  {
   "cell_type": "code",
   "execution_count": null,
   "id": "a8c6d0e1",
   "metadata": {},
   "outputs": [],
   "source": [
    "# we will start by creating a simulation instance.\n",
    "sim = ssb.Simulation.Inhibition()"
   ]
  },
  {
   "cell_type": "code",
   "execution_count": null,
   "id": "91624648",
   "metadata": {},
   "outputs": [],
   "source": [
    "# configuration of simulation parameters\n",
    "sim.SetSimulationParameters(agonist='adenosine',\n",
    "                            agonist_affinity=adenosine_pKi,\n",
    "                            agonist_submaximal_conc=submax,\n",
    "                            antagonists=data.Compound.to_list()[1:3],\n",
    "                            antagonists_affinities=data.pKi.to_list()[1:3], \n",
    "                            lig_conc_range=lig_conc_range, \n",
    "                            receptor_conc=receptor_conc, \n",
    "                            pathway=gprotein, \n",
    "                            ttotal=time, \n",
    "                            nsteps=nsteps, \n",
    "                            binding_kinetics=False, \n",
    "                            binding_kinetic_parameters=None)"
   ]
  },
  {
   "cell_type": "code",
   "execution_count": null,
   "id": "b52e53c4",
   "metadata": {},
   "outputs": [],
   "source": [
    "# Starting the simulation\n",
    "sim.Run()"
   ]
  },
  {
   "cell_type": "markdown",
   "id": "2103c49c",
   "metadata": {},
   "source": [
    "At the end of the simulation, the concentration values of the species within the signaling pathway will be saved in the instance.\n",
    "\n",
    "The response of a signaling pathway is typically represented by the increase or decrease in the concentration of one of the species described by the model. To predict the dose-response curve, we need to first extract the maximum concentration value observed for a particular species from each individual simulation (for each ligand concentration). These maximum values will then be fitted to a logistic regression.\n",
    "\n",
    "To achieve this, we will use the following analysis function:\n"
   ]
  },
  {
   "cell_type": "code",
   "execution_count": null,
   "id": "e8dff1c8",
   "metadata": {},
   "outputs": [],
   "source": [
    "sim.Analysis()"
   ]
  },
  {
   "cell_type": "markdown",
   "id": "fbdd0773",
   "metadata": {},
   "source": [
    "We can now to plot the dose-response curves:"
   ]
  },
  {
   "cell_type": "code",
   "execution_count": null,
   "id": "4cbb0861",
   "metadata": {},
   "outputs": [],
   "source": [
    "sim.ShowCurve()"
   ]
  },
  {
   "cell_type": "markdown",
   "id": "c3392404",
   "metadata": {},
   "source": [
    "Finnaly, from the dose-response curves we can interpolate the IC<sub>50</sub> values.\n"
   ]
  },
  {
   "cell_type": "code",
   "execution_count": null,
   "id": "f5f55d6d",
   "metadata": {},
   "outputs": [],
   "source": [
    "sim.ShowPotency()"
   ]
  },
  {
   "cell_type": "markdown",
   "id": "e8da4874",
   "metadata": {},
   "source": [
    "💡 The predicted potency values can be exported as a Python dictionary using the function `sim.PotencyToDict()`, or saved to a CSV file using `sim.PotencyToCSV()`. "
   ]
  },
  {
   "cell_type": "markdown",
   "id": "f2f97975",
   "metadata": {},
   "source": [
    "## Congratulations!\n",
    "\n",
    "Congratulations on completing this tutorial notebook! If you enjoyed working through it and would like to continue exploring the SSB Toolkit, we encourage you to complete the rest of the tutorials in this series.\n",
    "\n",
    "## Cite Us\n",
    "\n",
    "If you use or adapt this tutorial for your own research projects please cite us.\n",
    "\n",
    "```\n",
    "@article{ribeiro_ssb_2022,\n",
    "    title={{SSB} toolkit: from molecular structure to subcellular signaling pathways.},\n",
    "    author={Ribeiro, Rui Pedro and Gossen, Jonas and Rossetti, Giulia and Giorgetti, Alejandro},\n",
    "    publisher={bioRxiv},\n",
    "    url={https://www.biorxiv.org/content/10.1101/2022.11.08.515595v1},\n",
    "    doi={10.1101/2022.11.08.515595},\n",
    "    year={2022}\n",
    "}\n",
    "```\n",
    "\n",
    "\n",
    "## Acknowledgments\n",
    "\n",
    "EU Human Brain Project (SGA1 and SGA2): This open source software was developed in part in the Human Brain Project funded from the European Union's Horizon 2020 Framework Programme for Research and Innovation under Specific Grant Agreements No 720270 and No. 78907 (Human Brain Project SGA1 and SGA2).\n",
    "\n",
    "<div style=\"padding-bottom:50px\">\n",
    "<img src=\"https://res.cloudinary.com/djz27k5hg/image/upload/v1637657234/logos/HBP_horizontal_logo_qtcyzn.png\" width=\"300\" align='left' style=\"margin-left:50px\">\n",
    "    <img src=\"https://res.cloudinary.com/djz27k5hg/image/upload/v1642677502/logos/COFUNDED_EU_j2ktlp.jpg\" width=\"300\" align='left' style=\"margin-left:50px\">\n",
    "</div>  "
   ]
  }
 ],
 "metadata": {
  "kernelspec": {
   "display_name": "Python 3 (ipykernel)",
   "language": "python",
   "name": "python3"
  },
  "language_info": {
   "codemirror_mode": {
    "name": "ipython",
    "version": 3
   },
   "file_extension": ".py",
   "mimetype": "text/x-python",
   "name": "python",
   "nbconvert_exporter": "python",
   "pygments_lexer": "ipython3",
   "version": "3.9.19"
  },
  "vscode": {
   "interpreter": {
    "hash": "f5106a7df1aca81d027a662f3c4d70ef9fea3464588864be4c46d1e60135a17c"
   }
  }
 },
 "nbformat": 4,
 "nbformat_minor": 5
}
