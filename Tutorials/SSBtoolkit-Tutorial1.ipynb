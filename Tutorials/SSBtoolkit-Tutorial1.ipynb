{
 "cells": [
  {
   "cell_type": "markdown",
   "id": "ebbbd7d9",
   "metadata": {},
   "source": [
    "<div style=\"padding-bottom:50px\">\n",
    "<img src=\"https://res.cloudinary.com/djz27k5hg/image/upload/v1637335206/logos/Logo_des_Forschungszentrums_J_C3_BClich_seit_2018_hcliq4.svg\"  width=250 align='left' style=\"margin-top:30px\"/>\n",
    "<img src=\"https://res.cloudinary.com/djz27k5hg/image/upload/v1637657234/logos/HBP_horizontal_logo_qtcyzn.png\" width=\"300\" align='left' style=\"margin-left:50px\">\n",
    "<img src=\"https://res.cloudinary.com/djz27k5hg/image/upload/v1637333672/logos/ebrains_logo_swnlzv.png\" width=\"280\" align='left' style=\"margin-left:50px; margin-top:25px\">\n",
    "</div> \n",
    "\n",
    "<br><br><br><br>\n",
    "\n",
    "# Simulation of dose-response curves of agonists using affinity values\n",
    "\n",
    "In this tutorial we will simulate a mathematical model of a signaling pathway to obtain dose-response curves, from wich  *potency (EC<sub>50</sub>)* values of agonists can be infered. \n",
    "\n",
    "\n",
    "This tutorial and the rest in this sequence can be done in Google colab. If you'd like to open this notebook in colab, you can use the following link.\n",
    "\n",
    "<div style='padding:15px'>\n",
    "<a href=\"https://colab.research.google.com/github/rribeiro-sci/SSBtoolkit/blob/main/Tutorials/SSBtoolkit-Tutorial1.ipynb\" target=\"_blank\">\n",
    "<img alt=\"Colab\" src=\"https://res.cloudinary.com/djz27k5hg/image/upload/v1637335713/badges/colab-badge_hh0uyl.svg\" height=\"25\" style=\"margin:20px\">\n",
    "</a>\n",
    "\n",
    "</div>  \n"
   ]
  },
  {
   "cell_type": "markdown",
   "id": "bc7afa75",
   "metadata": {},
   "source": [
    "## Installing the SSB toolkit library"
   ]
  },
  {
   "cell_type": "code",
   "execution_count": null,
   "id": "4091a990",
   "metadata": {},
   "outputs": [],
   "source": [
    "!pip install --quiet ssbtoolkit"
   ]
  },
  {
   "attachments": {},
   "cell_type": "markdown",
   "id": "8dd8ac89",
   "metadata": {},
   "source": [
    "Run the following if you are working on Google colab"
   ]
  },
  {
   "cell_type": "code",
   "execution_count": null,
   "id": "94cc4778",
   "metadata": {},
   "outputs": [],
   "source": [
    "import os\n",
    "os.kill(os.getpid(), 9)"
   ]
  },
  {
   "cell_type": "markdown",
   "id": "0d2bec33",
   "metadata": {},
   "source": [
    "### Importing dependencies"
   ]
  },
  {
   "cell_type": "code",
   "execution_count": null,
   "id": "e344d8de",
   "metadata": {},
   "outputs": [],
   "source": [
    "import ssbtoolkit as ssb \n",
    "import numpy as np\n",
    "import pandas as pd\n",
    "import os"
   ]
  },
  {
   "attachments": {},
   "cell_type": "markdown",
   "id": "bb4a765f",
   "metadata": {},
   "source": [
    "Run the following command if you are working on the Ebrains platform"
   ]
  },
  {
   "cell_type": "code",
   "execution_count": null,
   "id": "981fd45d",
   "metadata": {},
   "outputs": [],
   "source": [
    "os.environ['BNGPATH'] = '/opt/app-root/src/.local/lib/python3.8/site-packages/bionetgen/bng-linux/'"
   ]
  },
  {
   "cell_type": "markdown",
   "id": "ec421692",
   "metadata": {},
   "source": [
    "## Loading experimental data"
   ]
  },
  {
   "cell_type": "markdown",
   "id": "184abec2",
   "metadata": {},
   "source": [
    "Once the SSBtoolkit environment is set up we are ready to start to simulate.\n",
    "\n",
    "We will begin by loading the affinity data of some selective agonists of the Adenosine 2A receptor. The experimental affinity data was taken from *([Varani, K. et al., 2015](https://doi.org/10.1021/acs.jmedchem.5b00215))*. This data can be directly downloaded from the repository."
   ]
  },
  {
   "cell_type": "code",
   "execution_count": null,
   "id": "35d3a619",
   "metadata": {},
   "outputs": [],
   "source": [
    "!curl -s -O https://raw.githubusercontent.com/rribeiro-sci/SSBtoolkit/main/example/A2AR_binding_data.csv"
   ]
  },
  {
   "cell_type": "code",
   "execution_count": null,
   "id": "be92204e",
   "metadata": {},
   "outputs": [],
   "source": [
    "data = pd.read_csv('A2AR_binding_data.csv')\n",
    "data"
   ]
  },
  {
   "cell_type": "markdown",
   "id": "b75c81c0",
   "metadata": {},
   "source": [
    "Commonly, the experimental affinity values come in different \"flavors\". \n",
    "\n",
    "The SSB framework just accepts affinity values as pK<sub>d</sub>. Since the affinity values in our data set is repported as K<sub>i</sub> and EC<sub>50</sub> and we need to convert them to pK<sub>i</sub> and pEC<sub>50</sub> repectively.\n"
   ]
  },
  {
   "cell_type": "code",
   "execution_count": null,
   "id": "b26bfc66",
   "metadata": {},
   "outputs": [],
   "source": [
    "data['pKi'] = data.Ki.apply(lambda x: -np.log10(x*1E-6))\n",
    "data['pEC50']=data.EC50.apply(lambda x: -np.log10(x*1E-6))\n",
    "data"
   ]
  },
  {
   "cell_type": "markdown",
   "id": "05c44c9d",
   "metadata": {},
   "source": [
    "## Selection of the signaling pathway \n",
    "\n",
    "The core of the SSB framework is, naturally, the mathematical models of the GPCRs' signaling pathways. \n",
    "\n",
    "Since G-protein sub-families are classified by their $\\alpha$ subunits, this classfication as been served to identify their signaling pathways:\n",
    "* G<sub>s</sub>\n",
    "* G<sub>i/o</sub>\n",
    "* G<sub>q/11</sub>\n",
    "* G<sub>12/13</sub>\n",
    "\n",
    "📖 See [The SSB toolkit](https://ssbtoolkit.readthedocs.io/) documentation for more details.\n",
    "\n",
    "We can define manualy the G$\\alpha$ pathway we want to work with, or simply query our internal database of human GPCR pathways using the UNIPROT id of our receptor using the SSBtoolkit built-in function `Utils.GetGProtein()`. The UNIPROT id for the human Adenosine A2 receptot is [P29274](https://www.uniprot.org/uniprot/P29274)."
   ]
  },
  {
   "cell_type": "code",
   "execution_count": null,
   "id": "a6d7dcb1",
   "metadata": {},
   "outputs": [],
   "source": [
    "uniprotID = 'P29274'\n",
    "gprotein = ssb.Utils.GetGProtein(uniprotID)\n",
    "gprotein"
   ]
  },
  {
   "cell_type": "markdown",
   "id": "9393b0cb",
   "metadata": {},
   "source": [
    "<span style=\"color:black\">⚠️ WARNING: our toolkit was specifically design for human GPCRs. The quering for pathways for GPCRs other than Human may be included in the future. However, if you want to study a non-human GPCR you can still use the SSB toolkit by setting manually the G$\\alpha$ pathway.</span>\n"
   ]
  },
  {
   "cell_type": "markdown",
   "id": "b555bc6f",
   "metadata": {},
   "source": [
    "##  Preparation, Simulation and Analysis\n",
    "\n",
    "To obtain a dose-response curve from the simulation of signaling pathways, individual simulations of the pathway according to a series of ligand concentrations must be performed (as it would be done in the wet-lab).  \n",
    "\n",
    "To define an array of ligand concentrations we will use a geometric progression. The reason why we use a geometric progression is due to the impact of the dilution fraction on the accuracy of K<sub>d</sub> and EC<sub>50</sub>/IC<sub>50</sub> values experimentally estimated. This factor, that defines the spacing between the adjacent concentration values, has an impact on the concentration values that are on the linear portion of the curve. Therefore, using a geometric progression we can mimic the experimental conditions where each concentration equals to the power of 2 of the previous lowest concentration *([Sebaugh, J.L., 2011](https://doi.org/10.1002/pst.426))*\n",
    "\n",
    "<span style=\"color:black\"> ⚠️ WARNING: the SSB toolkit uses μM as default concentration units.</span>\n"
   ]
  },
  {
   "cell_type": "code",
   "execution_count": null,
   "id": "252c3fe8",
   "metadata": {},
   "outputs": [],
   "source": [
    "# setting the range of ligand concentrations\n",
    "lig_conc_min = 1E-4 # μM\n",
    "lig_conc_max = 1E4  # μM\n",
    "lig_conc_range = np.geomspace(lig_conc_min, lig_conc_max, 20) # 20 concentration values"
   ]
  },
  {
   "cell_type": "markdown",
   "id": "0dbc3673",
   "metadata": {},
   "source": [
    "SSB simulations are also sensible to the concentration of the protein, wich must be, again, in <b><i>μM</i></b>. However, the  concentration values reported in functional assays comes, commonly, in <b><i>μg</i></b> of protein.\n",
    "\n",
    "The experimental data we are using was obtained from a functional assay using 50 <b><i>μg</i></b> of protein. We can use the SSBtoolkit built-in function `Utils.MicrogramsToNanomolar()` to convert  <b><i>μg</i></b> of protein in <b><i>μM</i></b>."
   ]
  },
  {
   "cell_type": "code",
   "execution_count": null,
   "id": "ca0b4a08",
   "metadata": {},
   "outputs": [],
   "source": [
    "# the following function takes as input the UniProtID and the concentration in μg.\n",
    "prot_conc = ssb.Utils.MicrogramsToNanomolar(uniprotID, 50) \n",
    "print(prot_conc, 'μM')"
   ]
  },
  {
   "cell_type": "markdown",
   "id": "8f795fe7",
   "metadata": {},
   "source": [
    "Finnaly, we need to define the length and number of time steps (resolution) of the simulation. "
   ]
  },
  {
   "cell_type": "code",
   "execution_count": null,
   "id": "4cdacd1a",
   "metadata": {},
   "outputs": [],
   "source": [
    "time = 10000  # time of simulation in seconds\n",
    "nsteps = 1000   # number of time steps"
   ]
  },
  {
   "cell_type": "markdown",
   "id": "ba2bc317",
   "metadata": {},
   "source": [
    "## Integration of ODEs \n",
    "\n",
    "After having defined all the simulation parameters we are ready to proceed with the simulations. A simulation of a methamatical model of a signaling pathway consists of the integration of a set of ordinary differential equations (ODEs) as function of time. Since each ODE represents a molecular event of the signaling pathway, when integrated over time, such equations can describe how the concentration of species inside the model changes over time. The key point of this tutorial is the use of the drug-receptor affinity value (K<sub>d</sub>) to fire up the model. With the K<sub>d</sub> values one can calculate the fraction of receptors that are occupied by the ligand in the equilibrium and, according to the *occupancy theory*, the fraction of occupied receptors represents the concentration of activated receptors in the equilibrium *([Kenakin T., 2004 ](https://doi.org/10.1016/j.tips.2004.02.012))*. 📖 Read the [Docs](https://ssbtoolkit.readthedocs.io/) for more details.\n",
    "\n",
    "\n",
    "In this tutorial we want to simulate dose-response curves of agonists towards Adenosine A2 receptor, so, we will use the SSBtoolkit built-in class `Simulation.Activation()`. \n",
    "\n",
    "\n",
    "<span style='color:black'>ℹ️ If you want study antagonists follow the tutorial [Simulation of dose-responses curves of antagonists](https://github.com/rribeiro-sci/SSBtoolkit/blob/main/SSBtoolkit_Tutorial2.ipynb).</span>"
   ]
  },
  {
   "cell_type": "code",
   "execution_count": null,
   "id": "5b3bf63d",
   "metadata": {},
   "outputs": [],
   "source": [
    "# we will start by creating a simulation instance.\n",
    "sim = ssb.Simulation.Activation()"
   ]
  },
  {
   "cell_type": "code",
   "execution_count": null,
   "id": "c1ae3b1f",
   "metadata": {},
   "outputs": [],
   "source": [
    "# configuration of simulation parameters\n",
    "sim.SetSimulationParameters(ligands=data.id.to_list()[:2], \n",
    "                            affinities=data.pKi.to_list()[:2], \n",
    "                            pathway=gprotein, \n",
    "                            receptor_conc=prot_conc,\n",
    "                            lig_conc_range=lig_conc_range, \n",
    "                            ttotal=time, \n",
    "                            nsteps=nsteps,  \n",
    "                            binding_kinetics=False)"
   ]
  },
  {
   "cell_type": "code",
   "execution_count": null,
   "id": "5f8df280",
   "metadata": {},
   "outputs": [],
   "source": [
    "#Start the simulation\n",
    "sim.Run()"
   ]
  },
  {
   "cell_type": "markdown",
   "id": "697afeef",
   "metadata": {},
   "source": [
    "In the end, the concentration values of the species of the signaling pathway over the simulation time will be saved inside the instance.\n",
    "\n",
    "The response of a signaling pathway is, naturally, represented by the increase or decrease of one of the species described by the model. So, to predict the dose-response curve we need, firstly, to extract the maximum concentration value orbserved for one specie from each individual simulation (from the series of simulations for each ligand concentration). Then, such values will be fitted to a logistic regression. \n",
    "\n",
    "To achieve this, we will use the analysis function:"
   ]
  },
  {
   "cell_type": "code",
   "execution_count": null,
   "id": "8b21a9a2",
   "metadata": {},
   "outputs": [],
   "source": [
    "sim.Analysis()"
   ]
  },
  {
   "cell_type": "markdown",
   "id": "37fb6a47",
   "metadata": {},
   "source": [
    "We can now to plot the dose-response curves:"
   ]
  },
  {
   "cell_type": "code",
   "execution_count": null,
   "id": "6aeba621",
   "metadata": {},
   "outputs": [],
   "source": [
    "sim.ShowCurve()"
   ]
  },
  {
   "cell_type": "markdown",
   "id": "5291e364",
   "metadata": {},
   "source": [
    "Finnaly, from the dose-response curves we can interpolate the EC<sub>50</sub> values."
   ]
  },
  {
   "cell_type": "code",
   "execution_count": null,
   "id": "dcc07180",
   "metadata": {},
   "outputs": [],
   "source": [
    "sim.ShowPotency()"
   ]
  },
  {
   "cell_type": "markdown",
   "id": "561e9437",
   "metadata": {},
   "source": [
    "💡 The potency predicted values can be exported as a python dictionary using the function `sim.PotencyToDict()` or saved in a csv file: `sim.PotencyToCSV()`. \n"
   ]
  },
  {
   "cell_type": "markdown",
   "id": "ee42b0a5",
   "metadata": {},
   "source": [
    "## Congratulations! \n",
    "\n",
    "Congratulations on completing this tutorial notebook! If you enjoyed working through the tutorial, and want to continue working with SSBtoolkit, we encourage you to finish the rest of the tutorials in this series. \n",
    "\n",
    "## Cite Us\n",
    "\n",
    "If you use or adapt this tutorial for your own research projects please cite us.\n",
    "\n",
    "```\n",
    "@article{ribeiro_ssb_2022,\n",
    "    title={{SSB} toolkit: from molecular structure to subcellular signaling pathways.},\n",
    "    author={Ribeiro, Rui Pedro and Gossen, Jonas and Rossetti, Giulia and Giorgetti, Alejandro},\n",
    "    publisher={bioRxiv},\n",
    "    url={https://www.biorxiv.org/content/10.1101/2022.11.08.515595v1},\n",
    "    doi={10.1101/2022.11.08.515595},\n",
    "    year={2022}\n",
    "}\n",
    "```\n",
    "\n",
    "\n",
    "\n",
    "## Acknowledgments\n",
    "\n",
    "EU Human Brain Project (SGA1 and SGA2): This open source software was developed in part in the Human Brain Project funded from the European Union's Horizon 2020 Framework Programme for Research and Innovation under Specific Grant Agreements No 720270 and No. 78907 (Human Brain Project SGA1 and SGA2).\n",
    "\n",
    "<div style=\"padding-bottom:50px\">\n",
    "<img src=\"https://res.cloudinary.com/djz27k5hg/image/upload/v1637657234/logos/HBP_horizontal_logo_qtcyzn.png\" width=\"300\" align='left' style=\"margin-left:50px\">\n",
    "    <img src=\"https://res.cloudinary.com/djz27k5hg/image/upload/v1642677502/logos/COFUNDED_EU_j2ktlp.jpg\" width=\"300\" align='left' style=\"margin-left:50px\">\n",
    "</div>  "
   ]
  }
 ],
 "metadata": {
  "kernelspec": {
   "display_name": "Python 3",
   "language": "python",
   "name": "python3"
  },
  "language_info": {
   "codemirror_mode": {
    "name": "ipython",
    "version": 3
   },
   "file_extension": ".py",
   "mimetype": "text/x-python",
   "name": "python",
   "nbconvert_exporter": "python",
   "pygments_lexer": "ipython3",
   "version": "3.8.10"
  },
  "vscode": {
   "interpreter": {
    "hash": "f5106a7df1aca81d027a662f3c4d70ef9fea3464588864be4c46d1e60135a17c"
   }
  }
 },
 "nbformat": 4,
 "nbformat_minor": 5
}
