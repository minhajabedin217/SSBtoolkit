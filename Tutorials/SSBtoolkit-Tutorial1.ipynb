{
  "cells": [
    {
      "cell_type": "markdown",
      "metadata": {
        "id": "view-in-github",
        "colab_type": "text"
      },
      "source": [
        "<a href=\"https://colab.research.google.com/github/minhajabedin217/SSBtoolkit/blob/main/Tutorials/SSBtoolkit-Tutorial1.ipynb\" target=\"_parent\"><img src=\"https://colab.research.google.com/assets/colab-badge.svg\" alt=\"Open In Colab\"/></a>"
      ]
    },
    {
      "cell_type": "markdown",
      "id": "ebbbd7d9",
      "metadata": {
        "id": "ebbbd7d9"
      },
      "source": [
        "<div style=\"padding-bottom:50px\">\n",
        "<img src=\"https://res.cloudinary.com/djz27k5hg/image/upload/v1637335206/logos/Logo_des_Forschungszentrums_J_C3_BClich_seit_2018_hcliq4.svg\"  width=250 align='left' style=\"margin-top:30px\"/>\n",
        "<img src=\"https://res.cloudinary.com/djz27k5hg/image/upload/v1637657234/logos/HBP_horizontal_logo_qtcyzn.png\" width=\"300\" align='left' style=\"margin-left:50px\">\n",
        "<img src=\"https://res.cloudinary.com/djz27k5hg/image/upload/v1637333672/logos/ebrains_logo_swnlzv.png\" width=\"280\" align='left' style=\"margin-left:50px; margin-top:25px\">\n",
        "</div>\n",
        "\n",
        "<br><br><br><br>\n",
        "\n",
        "# Simulation of dose-response curves of agonists using affinity values\n",
        "\n",
        "In this tutorial, we will simulate a mathematical model of a signaling pathway to obtain dose-response curves of agonists, from which the *potency (EC<sub>50</sub>)* values of agonists can be inferred.\n",
        "\n",
        "\n",
        "This tutorial, along with the others in this series, can be completed in Google Colab. If you'd like to open this notebook in Colab, you can use the following link:\n",
        "\n",
        "<div style='padding:15px'>\n",
        "<a href=\"https://colab.research.google.com/github/rribeiro-sci/SSBtoolkit/blob/main/Tutorials/SSBtoolkit-Tutorial1.ipynb\" target=\"_blank\">\n",
        "<img alt=\"Colab\" src=\"https://res.cloudinary.com/djz27k5hg/image/upload/v1637335713/badges/colab-badge_hh0uyl.svg\" height=\"25\" style=\"margin:20px\">\n",
        "</a>\n",
        "\n",
        "</div>  \n"
      ]
    },
    {
      "cell_type": "markdown",
      "id": "bc7afa75",
      "metadata": {
        "id": "bc7afa75"
      },
      "source": [
        "## Installing the SSB toolkit library"
      ]
    },
    {
      "cell_type": "code",
      "execution_count": 1,
      "id": "4091a990",
      "metadata": {
        "id": "4091a990"
      },
      "outputs": [],
      "source": [
        "%%capture\n",
        "!pip install --quiet ssbtoolkit"
      ]
    },
    {
      "cell_type": "markdown",
      "id": "7089b608",
      "metadata": {
        "id": "7089b608"
      },
      "source": [
        "If you are working within the **Google Colaboratory** environment, please execute the subsequent cell to mitigate potential version compatibility issues. If not, proceed directly to the next step."
      ]
    },
    {
      "cell_type": "code",
      "execution_count": null,
      "id": "d4a65831",
      "metadata": {
        "id": "d4a65831"
      },
      "outputs": [],
      "source": [
        "import os\n",
        "os.kill(os.getpid(), 9)"
      ]
    },
    {
      "cell_type": "markdown",
      "id": "0d2bec33",
      "metadata": {
        "id": "0d2bec33"
      },
      "source": [
        "### Importing dependencies"
      ]
    },
    {
      "cell_type": "code",
      "execution_count": 1,
      "id": "e344d8de",
      "metadata": {
        "colab": {
          "base_uri": "https://localhost:8080/",
          "height": 297
        },
        "id": "e344d8de",
        "outputId": "3aab086f-a4c1-4107-d921-34a5e4c93e62"
      },
      "outputs": [
        {
          "output_type": "error",
          "ename": "AttributeError",
          "evalue": "'FileFinder' object has no attribute 'find_module'",
          "traceback": [
            "\u001b[0;31m---------------------------------------------------------------------------\u001b[0m",
            "\u001b[0;31mAttributeError\u001b[0m                            Traceback (most recent call last)",
            "\u001b[0;32m/tmp/ipython-input-756820080.py\u001b[0m in \u001b[0;36m<cell line: 0>\u001b[0;34m()\u001b[0m\n\u001b[0;32m----> 1\u001b[0;31m \u001b[0;32mimport\u001b[0m \u001b[0mssbtoolkit\u001b[0m \u001b[0;32mas\u001b[0m \u001b[0mssb\u001b[0m\u001b[0;34m\u001b[0m\u001b[0;34m\u001b[0m\u001b[0m\n\u001b[0m\u001b[1;32m      2\u001b[0m \u001b[0;32mimport\u001b[0m \u001b[0mnumpy\u001b[0m \u001b[0;32mas\u001b[0m \u001b[0mnp\u001b[0m\u001b[0;34m\u001b[0m\u001b[0;34m\u001b[0m\u001b[0m\n\u001b[1;32m      3\u001b[0m \u001b[0;32mimport\u001b[0m \u001b[0mpandas\u001b[0m \u001b[0;32mas\u001b[0m \u001b[0mpd\u001b[0m\u001b[0;34m\u001b[0m\u001b[0;34m\u001b[0m\u001b[0m\n",
            "\u001b[0;32m/usr/local/lib/python3.12/dist-packages/ssbtoolkit/__init__.py\u001b[0m in \u001b[0;36m<module>\u001b[0;34m\u001b[0m\n\u001b[1;32m      4\u001b[0m \u001b[0;32mfor\u001b[0m \u001b[0mloader\u001b[0m\u001b[0;34m,\u001b[0m \u001b[0mmodule_name\u001b[0m\u001b[0;34m,\u001b[0m \u001b[0mis_pkg\u001b[0m \u001b[0;32min\u001b[0m \u001b[0mpkgutil\u001b[0m\u001b[0;34m.\u001b[0m\u001b[0mwalk_packages\u001b[0m\u001b[0;34m(\u001b[0m\u001b[0m__path__\u001b[0m\u001b[0;34m)\u001b[0m\u001b[0;34m:\u001b[0m\u001b[0;34m\u001b[0m\u001b[0;34m\u001b[0m\u001b[0m\n\u001b[1;32m      5\u001b[0m     \u001b[0m__all__\u001b[0m\u001b[0;34m.\u001b[0m\u001b[0mappend\u001b[0m\u001b[0;34m(\u001b[0m\u001b[0mmodule_name\u001b[0m\u001b[0;34m)\u001b[0m\u001b[0;34m\u001b[0m\u001b[0;34m\u001b[0m\u001b[0m\n\u001b[0;32m----> 6\u001b[0;31m     \u001b[0m_module\u001b[0m \u001b[0;34m=\u001b[0m \u001b[0mloader\u001b[0m\u001b[0;34m.\u001b[0m\u001b[0mfind_module\u001b[0m\u001b[0;34m(\u001b[0m\u001b[0mmodule_name\u001b[0m\u001b[0;34m)\u001b[0m\u001b[0;34m.\u001b[0m\u001b[0mload_module\u001b[0m\u001b[0;34m(\u001b[0m\u001b[0mmodule_name\u001b[0m\u001b[0;34m)\u001b[0m\u001b[0;34m\u001b[0m\u001b[0;34m\u001b[0m\u001b[0m\n\u001b[0m\u001b[1;32m      7\u001b[0m     \u001b[0mglobals\u001b[0m\u001b[0;34m(\u001b[0m\u001b[0;34m)\u001b[0m\u001b[0;34m[\u001b[0m\u001b[0mmodule_name\u001b[0m\u001b[0;34m]\u001b[0m \u001b[0;34m=\u001b[0m \u001b[0m_module\u001b[0m\u001b[0;34m\u001b[0m\u001b[0;34m\u001b[0m\u001b[0m\n\u001b[1;32m      8\u001b[0m \u001b[0;34m\u001b[0m\u001b[0m\n",
            "\u001b[0;31mAttributeError\u001b[0m: 'FileFinder' object has no attribute 'find_module'"
          ]
        }
      ],
      "source": [
        "import ssbtoolkit as ssb\n",
        "import numpy as np\n",
        "import pandas as pd"
      ]
    },
    {
      "cell_type": "code",
      "source": [],
      "metadata": {
        "id": "P3By24283qIg"
      },
      "id": "P3By24283qIg",
      "execution_count": null,
      "outputs": []
    },
    {
      "cell_type": "code",
      "metadata": {
        "colab": {
          "base_uri": "https://localhost:8080/"
        },
        "id": "a5fc45ea",
        "outputId": "1d6b1e5f-c872-405a-feef-b46583f0cd2c"
      },
      "source": [
        "# Check if ssbtoolkit is imported by trying to access a utility function\n",
        "try:\n",
        "    ssb.Utils\n",
        "    print(\"ssbtoolkit imported successfully.\")\n",
        "except NameError:\n",
        "    print(\"ssbtoolkit not imported. Please ensure cell e344d8de was run successfully.\")"
      ],
      "id": "a5fc45ea",
      "execution_count": 3,
      "outputs": [
        {
          "output_type": "stream",
          "name": "stdout",
          "text": [
            "ssbtoolkit not imported. Please ensure cell e344d8de was run successfully.\n"
          ]
        }
      ]
    },
    {
      "cell_type": "markdown",
      "source": [
        "# How to run ensure cell e344d8de was run successfully."
      ],
      "metadata": {
        "id": "Q804TZnC39ck"
      },
      "id": "Q804TZnC39ck"
    },
    {
      "cell_type": "code",
      "metadata": {
        "colab": {
          "base_uri": "https://localhost:8080/",
          "height": 332
        },
        "id": "79669ff5",
        "outputId": "2be43fa8-4926-462a-8482-878e1450dc13"
      },
      "source": [
        "import ssbtoolkit as ssb\n",
        "import numpy as np\n",
        "import pandas as pd\n",
        "\n",
        "# Check if ssbtoolkit is imported by trying to access a utility function\n",
        "try:\n",
        "    ssb.Utils\n",
        "    print(\"ssbtoolkit imported successfully.\")\n",
        "except NameError:\n",
        "    print(\"ssbtoolkit not imported. Please ensure the import cell was run successfully.\")"
      ],
      "id": "79669ff5",
      "execution_count": 5,
      "outputs": [
        {
          "output_type": "error",
          "ename": "AttributeError",
          "evalue": "'FileFinder' object has no attribute 'find_module'",
          "traceback": [
            "\u001b[0;31m---------------------------------------------------------------------------\u001b[0m",
            "\u001b[0;31mAttributeError\u001b[0m                            Traceback (most recent call last)",
            "\u001b[0;32m/tmp/ipython-input-1650909608.py\u001b[0m in \u001b[0;36m<cell line: 0>\u001b[0;34m()\u001b[0m\n\u001b[0;32m----> 1\u001b[0;31m \u001b[0;32mimport\u001b[0m \u001b[0mssbtoolkit\u001b[0m \u001b[0;32mas\u001b[0m \u001b[0mssb\u001b[0m\u001b[0;34m\u001b[0m\u001b[0;34m\u001b[0m\u001b[0m\n\u001b[0m\u001b[1;32m      2\u001b[0m \u001b[0;32mimport\u001b[0m \u001b[0mnumpy\u001b[0m \u001b[0;32mas\u001b[0m \u001b[0mnp\u001b[0m\u001b[0;34m\u001b[0m\u001b[0;34m\u001b[0m\u001b[0m\n\u001b[1;32m      3\u001b[0m \u001b[0;32mimport\u001b[0m \u001b[0mpandas\u001b[0m \u001b[0;32mas\u001b[0m \u001b[0mpd\u001b[0m\u001b[0;34m\u001b[0m\u001b[0;34m\u001b[0m\u001b[0m\n\u001b[1;32m      4\u001b[0m \u001b[0;34m\u001b[0m\u001b[0m\n\u001b[1;32m      5\u001b[0m \u001b[0;31m# Check if ssbtoolkit is imported by trying to access a utility function\u001b[0m\u001b[0;34m\u001b[0m\u001b[0;34m\u001b[0m\u001b[0m\n",
            "\u001b[0;32m/usr/local/lib/python3.12/dist-packages/ssbtoolkit/__init__.py\u001b[0m in \u001b[0;36m<module>\u001b[0;34m\u001b[0m\n\u001b[1;32m      4\u001b[0m \u001b[0;32mfor\u001b[0m \u001b[0mloader\u001b[0m\u001b[0;34m,\u001b[0m \u001b[0mmodule_name\u001b[0m\u001b[0;34m,\u001b[0m \u001b[0mis_pkg\u001b[0m \u001b[0;32min\u001b[0m \u001b[0mpkgutil\u001b[0m\u001b[0;34m.\u001b[0m\u001b[0mwalk_packages\u001b[0m\u001b[0;34m(\u001b[0m\u001b[0m__path__\u001b[0m\u001b[0;34m)\u001b[0m\u001b[0;34m:\u001b[0m\u001b[0;34m\u001b[0m\u001b[0;34m\u001b[0m\u001b[0m\n\u001b[1;32m      5\u001b[0m     \u001b[0m__all__\u001b[0m\u001b[0;34m.\u001b[0m\u001b[0mappend\u001b[0m\u001b[0;34m(\u001b[0m\u001b[0mmodule_name\u001b[0m\u001b[0;34m)\u001b[0m\u001b[0;34m\u001b[0m\u001b[0;34m\u001b[0m\u001b[0m\n\u001b[0;32m----> 6\u001b[0;31m     \u001b[0m_module\u001b[0m \u001b[0;34m=\u001b[0m \u001b[0mloader\u001b[0m\u001b[0;34m.\u001b[0m\u001b[0mfind_module\u001b[0m\u001b[0;34m(\u001b[0m\u001b[0mmodule_name\u001b[0m\u001b[0;34m)\u001b[0m\u001b[0;34m.\u001b[0m\u001b[0mload_module\u001b[0m\u001b[0;34m(\u001b[0m\u001b[0mmodule_name\u001b[0m\u001b[0;34m)\u001b[0m\u001b[0;34m\u001b[0m\u001b[0;34m\u001b[0m\u001b[0m\n\u001b[0m\u001b[1;32m      7\u001b[0m     \u001b[0mglobals\u001b[0m\u001b[0;34m(\u001b[0m\u001b[0;34m)\u001b[0m\u001b[0;34m[\u001b[0m\u001b[0mmodule_name\u001b[0m\u001b[0;34m]\u001b[0m \u001b[0;34m=\u001b[0m \u001b[0m_module\u001b[0m\u001b[0;34m\u001b[0m\u001b[0;34m\u001b[0m\u001b[0m\n\u001b[1;32m      8\u001b[0m \u001b[0;34m\u001b[0m\u001b[0m\n",
            "\u001b[0;31mAttributeError\u001b[0m: 'FileFinder' object has no attribute 'find_module'"
          ]
        }
      ]
    },
    {
      "cell_type": "markdown",
      "source": [],
      "metadata": {
        "id": "ISeqekY14U89"
      },
      "id": "ISeqekY14U89"
    },
    {
      "cell_type": "markdown",
      "source": [],
      "metadata": {
        "id": "f9_G9Uvw37RY"
      },
      "id": "f9_G9Uvw37RY"
    },
    {
      "cell_type": "markdown",
      "id": "bb4a765f",
      "metadata": {
        "id": "bb4a765f"
      },
      "source": [
        "If you are using the **Ebrains Platform**, execute the following cell to set up the environment. If you are not using **Ebrains**, skip the following step and proceed with the tutorial."
      ]
    },
    {
      "cell_type": "code",
      "execution_count": 4,
      "id": "981fd45d",
      "metadata": {
        "id": "981fd45d"
      },
      "outputs": [],
      "source": [
        "import os\n",
        "os.environ['BNGPATH'] = '/opt/app-root/src/.local/lib/python3.8/site-packages/bionetgen/bng-linux/'"
      ]
    },
    {
      "cell_type": "markdown",
      "id": "ec421692",
      "metadata": {
        "id": "ec421692"
      },
      "source": [
        "## Loading experimental data"
      ]
    },
    {
      "cell_type": "markdown",
      "id": "184abec2",
      "metadata": {
        "id": "184abec2"
      },
      "source": [
        "Once the SSBtoolkit environment is set up, we are ready to start the simulation.\n",
        "\n",
        "We will begin by loading the affinity data for several selective agonists of the Adenosine 2A receptor. This experimental affinity data was obtained from *[Varani, K. et al., 2015](https://doi.org/10.1021/acs.jmedchem.5b00215)* be directly downloaded from the repository with the following command:"
      ]
    },
    {
      "cell_type": "code",
      "execution_count": 3,
      "id": "35d3a619",
      "metadata": {
        "id": "35d3a619"
      },
      "outputs": [],
      "source": [
        "!curl -s -O https://raw.githubusercontent.com/rribeiro-sci/SSBtoolkit/main/data/A2AR_binding_data.csv"
      ]
    },
    {
      "cell_type": "code",
      "execution_count": 4,
      "id": "be92204e",
      "metadata": {
        "colab": {
          "base_uri": "https://localhost:8080/",
          "height": 158
        },
        "id": "be92204e",
        "outputId": "981f8ec0-c90e-4925-c09f-f0cd578feb29"
      },
      "outputs": [
        {
          "output_type": "error",
          "ename": "NameError",
          "evalue": "name 'pd' is not defined",
          "traceback": [
            "\u001b[0;31m---------------------------------------------------------------------------\u001b[0m",
            "\u001b[0;31mNameError\u001b[0m                                 Traceback (most recent call last)",
            "\u001b[0;32m/tmp/ipython-input-3116891163.py\u001b[0m in \u001b[0;36m<cell line: 0>\u001b[0;34m()\u001b[0m\n\u001b[0;32m----> 1\u001b[0;31m \u001b[0mdata\u001b[0m \u001b[0;34m=\u001b[0m \u001b[0mpd\u001b[0m\u001b[0;34m.\u001b[0m\u001b[0mread_csv\u001b[0m\u001b[0;34m(\u001b[0m\u001b[0;34m'A2AR_binding_data.csv'\u001b[0m\u001b[0;34m)\u001b[0m\u001b[0;34m\u001b[0m\u001b[0;34m\u001b[0m\u001b[0m\n\u001b[0m\u001b[1;32m      2\u001b[0m \u001b[0mdata\u001b[0m\u001b[0;34m\u001b[0m\u001b[0;34m\u001b[0m\u001b[0m\n",
            "\u001b[0;31mNameError\u001b[0m: name 'pd' is not defined"
          ]
        }
      ],
      "source": [
        "data = pd.read_csv('A2AR_binding_data.csv')\n",
        "data"
      ]
    },
    {
      "cell_type": "markdown",
      "id": "b75c81c0",
      "metadata": {
        "id": "b75c81c0"
      },
      "source": [
        "## Affinity Value Conversion\n",
        "\n",
        "Experimental affinity values often come in different \"flavors.\"\n",
        "\n",
        "The SSB framework accepts affinity values only in the form of  pK<sub>d</sub>. Since the affinity values in our dataset are reported as K<sub>i</sub> and EC<sub>50</sub>, we need to convert them to pK<sub>i</sub> and pEC<sub>50</sub>, respectively."
      ]
    },
    {
      "cell_type": "code",
      "execution_count": 5,
      "id": "b26bfc66",
      "metadata": {
        "colab": {
          "base_uri": "https://localhost:8080/",
          "height": 176
        },
        "id": "b26bfc66",
        "outputId": "5645bcff-1f83-4bf4-e42f-f88aabf16a05"
      },
      "outputs": [
        {
          "output_type": "error",
          "ename": "NameError",
          "evalue": "name 'data' is not defined",
          "traceback": [
            "\u001b[0;31m---------------------------------------------------------------------------\u001b[0m",
            "\u001b[0;31mNameError\u001b[0m                                 Traceback (most recent call last)",
            "\u001b[0;32m/tmp/ipython-input-1347265799.py\u001b[0m in \u001b[0;36m<cell line: 0>\u001b[0;34m()\u001b[0m\n\u001b[0;32m----> 1\u001b[0;31m \u001b[0mdata\u001b[0m\u001b[0;34m[\u001b[0m\u001b[0;34m'pKi'\u001b[0m\u001b[0;34m]\u001b[0m \u001b[0;34m=\u001b[0m \u001b[0mdata\u001b[0m\u001b[0;34m.\u001b[0m\u001b[0mKi\u001b[0m\u001b[0;34m.\u001b[0m\u001b[0mapply\u001b[0m\u001b[0;34m(\u001b[0m\u001b[0;32mlambda\u001b[0m \u001b[0mx\u001b[0m\u001b[0;34m:\u001b[0m \u001b[0;34m-\u001b[0m\u001b[0mnp\u001b[0m\u001b[0;34m.\u001b[0m\u001b[0mlog10\u001b[0m\u001b[0;34m(\u001b[0m\u001b[0mx\u001b[0m\u001b[0;34m*\u001b[0m\u001b[0;36m1E-6\u001b[0m\u001b[0;34m)\u001b[0m\u001b[0;34m)\u001b[0m\u001b[0;34m\u001b[0m\u001b[0;34m\u001b[0m\u001b[0m\n\u001b[0m\u001b[1;32m      2\u001b[0m \u001b[0mdata\u001b[0m\u001b[0;34m[\u001b[0m\u001b[0;34m'pEC50'\u001b[0m\u001b[0;34m]\u001b[0m\u001b[0;34m=\u001b[0m\u001b[0mdata\u001b[0m\u001b[0;34m.\u001b[0m\u001b[0mEC50\u001b[0m\u001b[0;34m.\u001b[0m\u001b[0mapply\u001b[0m\u001b[0;34m(\u001b[0m\u001b[0;32mlambda\u001b[0m \u001b[0mx\u001b[0m\u001b[0;34m:\u001b[0m \u001b[0;34m-\u001b[0m\u001b[0mnp\u001b[0m\u001b[0;34m.\u001b[0m\u001b[0mlog10\u001b[0m\u001b[0;34m(\u001b[0m\u001b[0mx\u001b[0m\u001b[0;34m*\u001b[0m\u001b[0;36m1E-6\u001b[0m\u001b[0;34m)\u001b[0m\u001b[0;34m)\u001b[0m\u001b[0;34m\u001b[0m\u001b[0;34m\u001b[0m\u001b[0m\n\u001b[1;32m      3\u001b[0m \u001b[0mdata\u001b[0m\u001b[0;34m\u001b[0m\u001b[0;34m\u001b[0m\u001b[0m\n",
            "\u001b[0;31mNameError\u001b[0m: name 'data' is not defined"
          ]
        }
      ],
      "source": [
        "data['pKi'] = data.Ki.apply(lambda x: -np.log10(x*1E-6))\n",
        "data['pEC50']=data.EC50.apply(lambda x: -np.log10(x*1E-6))\n",
        "data"
      ]
    },
    {
      "cell_type": "markdown",
      "id": "05c44c9d",
      "metadata": {
        "id": "05c44c9d"
      },
      "source": [
        "## Selection of the signaling pathway\n",
        "\n",
        "The core of the SSB framework is, naturally, the mathematical models of GPCR signaling pathways.\n",
        "\n",
        "G-protein sub-families are classified by their $\\alpha$ subunits, which are used to identify their corresponding signaling pathways:\n",
        "\n",
        "* G<sub>s</sub>\n",
        "* G<sub>i/o</sub>\n",
        "* G<sub>q/11</sub>\n",
        "* G<sub>12/13</sub>\n",
        "\n",
        "📖 For more details, refer to the [The SSB toolkit](https://ssbtoolkit.readthedocs.io/) documentation.\n",
        "\n",
        "We can manually define the G$\\alpha$ pathway you want to work with, or use the SSB Toolkit’s built-in function `Utils.GetGProtein()` to query our internal database of human GPCR pathways using the UNIPROT ID of the receptor. The UNIPROT ID for the human Adenosine A2 receptor is [P29274](https://www.uniprot.org/uniprot/P29274).\n",
        "\n"
      ]
    },
    {
      "cell_type": "code",
      "execution_count": null,
      "id": "a6d7dcb1",
      "metadata": {
        "id": "a6d7dcb1"
      },
      "outputs": [],
      "source": [
        "uniprotID = 'P29274'\n",
        "gprotein = ssb.Utils.GetGProtein(uniprotID)\n",
        "gprotein"
      ]
    },
    {
      "cell_type": "markdown",
      "id": "9393b0cb",
      "metadata": {
        "id": "9393b0cb"
      },
      "source": [
        "<span style=\"color:black\">⚠️ WARNING: The toolkit is specifically designed for human GPCRs. Querying pathways for GPCRs other than human may be included in future updates. However, if you wish to study a non-human GPCR, you can still use the SSB Toolkit by manually setting the G$\\alpha$ pathway.</span>\n"
      ]
    },
    {
      "cell_type": "markdown",
      "id": "b555bc6f",
      "metadata": {
        "id": "b555bc6f"
      },
      "source": [
        "##  Preparation, Simulation and Analysis\n",
        "\n",
        "To obtain a dose-response curve from the simulation of signaling pathways, we need to perform individual simulations of the pathway across a series of ligand concentrations, similar to what would be done in a wet lab.\n",
        "\n",
        "We will define an array of ligand concentrations using a geometric progression. This approach is chosen because it addresses the impact of dilution fractions on the accuracy of experimentally estimated K<sub>d</sub> and EC<sub>50</sub>/IC<sub>50</sub> values. The spacing between adjacent concentration values affects the precision of the measurements, particularly in the linear portion of the curve. By using a geometric progression, we can better simulate experimental conditions where each concentration is a power of 2 of the previous concentration *[Sebaugh, J.L., 2011](https://doi.org/10.1002/pst.426)*\n",
        "\n",
        "<span style=\"color:black\"> ⚠️ WARNING: The SSB toolkit uses μM as default unit for concentration values.</span>\n"
      ]
    },
    {
      "cell_type": "code",
      "execution_count": null,
      "id": "252c3fe8",
      "metadata": {
        "id": "252c3fe8"
      },
      "outputs": [],
      "source": [
        "# setting the range of ligand concentrations\n",
        "lig_conc_min = 1E-4 # μM\n",
        "lig_conc_max = 1E4  # μM\n",
        "lig_conc_range = np.geomspace(lig_conc_min, lig_conc_max, 20) # 20 concentration values"
      ]
    },
    {
      "cell_type": "markdown",
      "id": "0dbc3673",
      "metadata": {
        "id": "0dbc3673"
      },
      "source": [
        "SSB simulations are also sensitive to the concentration of the protein, which must be expressed in <b><i>μM</i></b>. However, functional assays typically report protein concentrations in <b><i>μg</i></b>.\n",
        "\n",
        "The experimental data we are using was obtained from a functional assay with 50 μg of protein. To convert this protein concentration from <b><i>μg</i></b> to <b><i>μM</i></b>, you can use the SSB Toolkit's built-in function `Utils.MicrogramsToNanomolar()`.\n"
      ]
    },
    {
      "cell_type": "code",
      "execution_count": null,
      "id": "ca0b4a08",
      "metadata": {
        "id": "ca0b4a08"
      },
      "outputs": [],
      "source": [
        "# the following function takes as input the UniProtID and the concentration in μg.\n",
        "prot_conc = ssb.Utils.MicrogramsToNanomolar(uniprotID, 50)\n",
        "print(prot_conc, 'μM')"
      ]
    },
    {
      "cell_type": "markdown",
      "id": "8f795fe7",
      "metadata": {
        "id": "8f795fe7"
      },
      "source": [
        "Finally, we need to define the length and number of time steps (i.e., the resolution) for the simulation."
      ]
    },
    {
      "cell_type": "code",
      "execution_count": null,
      "id": "4cdacd1a",
      "metadata": {
        "id": "4cdacd1a"
      },
      "outputs": [],
      "source": [
        "time = 10000   # time of simulation in seconds\n",
        "nsteps = 1000  # number of time steps"
      ]
    },
    {
      "cell_type": "markdown",
      "id": "ba2bc317",
      "metadata": {
        "id": "ba2bc317"
      },
      "source": [
        "## Integration of ODEs\n",
        "\n",
        "Once all the simulation parameters have been defined, we are ready to proceed with the simulations. Simulating a mathematical model of a signaling pathway involves integrating a set of ordinary differential equations (ODEs) over time. Each ODE represents a molecular event within the signaling pathway, and integrating these equations describes how the concentration of species in the model changes over time.\n",
        "\n",
        "A key aspect of this tutorial is using the drug-receptor affinity value (K<sub>d</sub>) to initiate the model. With K<sub>d</sub> values, we can calculate the fraction of receptors occupied by the ligand at equilibrium. According to *occupancy theory*, this fraction represents the concentration of activated receptors at equilibrium *[Kenakin T., 2004 ](https://doi.org/10.1016/j.tips.2004.02.012)*. 📖 For more details, refer to the [Docs](https://ssbtoolkit.readthedocs.io/).\n",
        "\n",
        "In this tutorial, we will simulate dose-response curves of agonists targeting the Adenosine A2 receptor using the SSB Toolkit’s built-in class `Simulation.Activation()`.\n",
        "\n",
        "<span style='color:black'>ℹ️ If you are interested in studying antagonists, follow the tutorial on [Simulation of dose-responses curves of antagonists](https://github.com/rribeiro-sci/SSBtoolkit/blob/main/Tutorials/SSBtoolkit-Tutorial2.ipynb).</span>"
      ]
    },
    {
      "cell_type": "code",
      "execution_count": null,
      "id": "5b3bf63d",
      "metadata": {
        "id": "5b3bf63d"
      },
      "outputs": [],
      "source": [
        "# we will start by creating a simulation instance.\n",
        "sim = ssb.Simulation.Activation()"
      ]
    },
    {
      "cell_type": "code",
      "execution_count": null,
      "id": "c1ae3b1f",
      "metadata": {
        "id": "c1ae3b1f"
      },
      "outputs": [],
      "source": [
        "# configuration of simulation parameters\n",
        "sim.SetSimulationParameters(ligands=data.id.to_list()[:2],\n",
        "                            affinities=data.pKi.to_list()[:2],\n",
        "                            pathway=gprotein,\n",
        "                            receptor_conc=prot_conc,\n",
        "                            lig_conc_range=lig_conc_range,\n",
        "                            ttotal=time,\n",
        "                            nsteps=nsteps,\n",
        "                            binding_kinetics=False)"
      ]
    },
    {
      "cell_type": "code",
      "execution_count": null,
      "id": "5f8df280",
      "metadata": {
        "id": "5f8df280"
      },
      "outputs": [],
      "source": [
        "# Starting the simulation\n",
        "sim.Run()"
      ]
    },
    {
      "cell_type": "markdown",
      "id": "697afeef",
      "metadata": {
        "id": "697afeef"
      },
      "source": [
        "At the end of the simulation, the concentration values of the species within the signaling pathway will be saved in the instance.\n",
        "\n",
        "The response of a signaling pathway is typically represented by the increase or decrease in the concentration of one of the species described by the model. To predict the dose-response curve, we need to first extract the maximum concentration value observed for a particular species from each individual simulation (for each ligand concentration). These maximum values will then be fitted to a logistic regression.\n",
        "\n",
        "To achieve this, we will use the following analysis function:"
      ]
    },
    {
      "cell_type": "code",
      "execution_count": null,
      "id": "8b21a9a2",
      "metadata": {
        "id": "8b21a9a2"
      },
      "outputs": [],
      "source": [
        "sim.Analysis()"
      ]
    },
    {
      "cell_type": "markdown",
      "id": "37fb6a47",
      "metadata": {
        "id": "37fb6a47"
      },
      "source": [
        "We can now to plot the dose-response curves:"
      ]
    },
    {
      "cell_type": "code",
      "execution_count": null,
      "id": "6aeba621",
      "metadata": {
        "id": "6aeba621"
      },
      "outputs": [],
      "source": [
        "sim.ShowCurve()"
      ]
    },
    {
      "cell_type": "markdown",
      "id": "5291e364",
      "metadata": {
        "id": "5291e364"
      },
      "source": [
        "Finnaly, from the dose-response curves, we can interpolate the EC<sub>50</sub> values."
      ]
    },
    {
      "cell_type": "code",
      "execution_count": null,
      "id": "dcc07180",
      "metadata": {
        "id": "dcc07180"
      },
      "outputs": [],
      "source": [
        "sim.ShowPotency()"
      ]
    },
    {
      "cell_type": "markdown",
      "id": "561e9437",
      "metadata": {
        "id": "561e9437"
      },
      "source": [
        "💡 The predicted potency values can be exported as a Python dictionary using the function `sim.PotencyToDict()`, or saved to a CSV file using `sim.PotencyToCSV()`.\n"
      ]
    },
    {
      "cell_type": "markdown",
      "id": "ee42b0a5",
      "metadata": {
        "id": "ee42b0a5"
      },
      "source": [
        "## Congratulations!\n",
        "\n",
        "Congratulations on completing this tutorial notebook! If you enjoyed working through it and would like to continue exploring the SSB Toolkit, we encourage you to complete the rest of the tutorials in this series.\n",
        "\n",
        "## Cite Us\n",
        "\n",
        "If you use or adapt this tutorial for your own research projects please cite us.\n",
        "\n",
        "```\n",
        "@article{ribeiro_ssb_2022,\n",
        "    title={{SSB} toolkit: from molecular structure to subcellular signaling pathways.},\n",
        "    author={Ribeiro, Rui Pedro and Gossen, Jonas and Rossetti, Giulia and Giorgetti, Alejandro},\n",
        "    publisher={bioRxiv},\n",
        "    url={https://www.biorxiv.org/content/10.1101/2022.11.08.515595v1},\n",
        "    doi={10.1101/2022.11.08.515595},\n",
        "    year={2022}\n",
        "}\n",
        "```\n",
        "\n",
        "\n",
        "\n",
        "## Acknowledgments\n",
        "\n",
        "EU Human Brain Project (SGA1 and SGA2): This open source software was developed in part in the Human Brain Project funded from the European Union's Horizon 2020 Framework Programme for Research and Innovation under Specific Grant Agreements No 720270 and No. 78907 (Human Brain Project SGA1 and SGA2).\n",
        "\n",
        "<div style=\"padding-bottom:50px\">\n",
        "<img src=\"https://res.cloudinary.com/djz27k5hg/image/upload/v1637657234/logos/HBP_horizontal_logo_qtcyzn.png\" width=\"300\" align='left' style=\"margin-left:50px\">\n",
        "    <img src=\"https://res.cloudinary.com/djz27k5hg/image/upload/v1642677502/logos/COFUNDED_EU_j2ktlp.jpg\" width=\"300\" align='left' style=\"margin-left:50px\">\n",
        "</div>  "
      ]
    }
  ],
  "metadata": {
    "kernelspec": {
      "display_name": "Python 3 (ipykernel)",
      "language": "python",
      "name": "python3"
    },
    "language_info": {
      "codemirror_mode": {
        "name": "ipython",
        "version": 3
      },
      "file_extension": ".py",
      "mimetype": "text/x-python",
      "name": "python",
      "nbconvert_exporter": "python",
      "pygments_lexer": "ipython3",
      "version": "3.9.19"
    },
    "vscode": {
      "interpreter": {
        "hash": "f5106a7df1aca81d027a662f3c4d70ef9fea3464588864be4c46d1e60135a17c"
      }
    },
    "colab": {
      "provenance": [],
      "include_colab_link": true
    }
  },
  "nbformat": 4,
  "nbformat_minor": 5
}