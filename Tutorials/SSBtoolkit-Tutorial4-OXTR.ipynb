{
 "cells": [
  {
   "cell_type": "markdown",
   "id": "e532cf03",
   "metadata": {},
   "source": [
    "<div style=\"padding-bottom:50px\">\n",
    "<img src=\"https://res.cloudinary.com/djz27k5hg/image/upload/v1637335206/logos/Logo_des_Forschungszentrums_J_C3_BClich_seit_2018_hcliq4.svg\"  width=250 align='left' style=\"margin-top:30px\"/>\n",
    "<img src=\"https://res.cloudinary.com/djz27k5hg/image/upload/v1637657234/logos/HBP_horizontal_logo_qtcyzn.png\" width=\"300\" align='left' style=\"margin-left:50px\">\n",
    "<img src=\"https://res.cloudinary.com/djz27k5hg/image/upload/v1637333672/logos/ebrains_logo_swnlzv.png\" width=\"280\" align='left' style=\"margin-left:50px; margin-top:25px\">\n",
    "</div>  \n",
    "<br><br><br><br>\n",
    "<br>\n",
    "\n",
    "# Exploring SSB pathways associated to disease variants \n",
    "\n",
    "## The OXTR pathway as a study case\n",
    "\n",
    "In this notebook we will simulate mathematical model of a signaling pathway of the Oxytocin receptor in order to give a rational on experimental observation on a disease associated variance of the OXT receptor.\n",
    "\n",
    "The data used in this notebook is based on:\n",
    "<blockquote>\n",
    "Meyer, M., Jurek, B., Alfonso-Prieto, M. et al. Structure-function relationships of the \n",
    "disease-linked A218T oxytocin receptor variant. Mol Psychiatry (2022). \n",
    "<a href=\"https://doi.org/10.1038/s41380-021-01241-8\" target=\"_bank\"> https://doi.org/10.1038/s41380-021-01241-8</a>\n",
    "</blockquote>\n",
    "\n",
    "This tutorial and the rest in this sequence can be done in Google colab. If you'd like to open this notebook in colab, you can use the following link.\n",
    "\n",
    "<div style='padding:15px'>\n",
    "<a href=\"https://colab.research.google.com/github/rribeiro-sci/SSBtoolkit/blob/main/Tutorials/SSBtoolkit-Tutorial4-OXTR.ipynb\" target=\"_blank\">\n",
    "<img alt=\"Colab\" src=\"https://res.cloudinary.com/djz27k5hg/image/upload/v1637335713/badges/colab-badge_hh0uyl.svg\" height=\"25\" style=\"margin:20px\">\n",
    "</a>\n",
    "\n",
    "## Installing the SSB toolkit library"
   ]
  },
  {
   "cell_type": "code",
   "execution_count": null,
   "id": "b36a776a",
   "metadata": {},
   "outputs": [],
   "source": [
    "!pip install --quiet ssbtoolkit"
   ]
  },
  {
   "attachments": {},
   "cell_type": "markdown",
   "id": "8dd8ac89",
   "metadata": {},
   "source": [
    "Run the following if you are working on Google colab"
   ]
  },
  {
   "cell_type": "code",
   "execution_count": null,
   "id": "94cc4778",
   "metadata": {},
   "outputs": [],
   "source": [
    "import os\n",
    "os.kill(os.getpid(), 9)"
   ]
  },
  {
   "cell_type": "markdown",
   "id": "439d9e19",
   "metadata": {},
   "source": [
    "### Importing dependencies"
   ]
  },
  {
   "cell_type": "code",
   "execution_count": null,
   "id": "276f8a5a",
   "metadata": {},
   "outputs": [],
   "source": [
    "#Import Python dependencies\n",
    "import numpy as np\n",
    "import pandas as pd\n",
    "import ssbtoolkit as ssb"
   ]
  },
  {
   "attachments": {},
   "cell_type": "markdown",
   "id": "bb4a765f",
   "metadata": {},
   "source": [
    "Run the following command if you are working on the Ebrains platform"
   ]
  },
  {
   "cell_type": "code",
   "execution_count": null,
   "id": "981fd45d",
   "metadata": {},
   "outputs": [],
   "source": [
    "import os\n",
    "os.environ['BNGPATH'] = '/opt/app-root/src/.local/lib/python3.8/site-packages/bionetgen/bng-linux/'"
   ]
  },
  {
   "cell_type": "markdown",
   "id": "55b54990",
   "metadata": {},
   "source": [
    "## Introduction\n",
    "\n",
    "The neuropeptide oxytocin (OXT) regulates multiple social and emotional behaviours, such as bonding, reciprocal trust, aggression, fear and anxiety, both in animals and humans. It has been suggested as a biomarker and target for the treatment of Autism Spectrum Disorder (ASD) [(Mayer et al. 2022)](https://doi.org/10.1038/s41380-021-01241-8).\n",
    "\n",
    "The OXT exerts its function by binding to its target receptor (OXTR), a member of the Class A G-protein coupled receptors (GPCR) family.\n",
    "\n",
    "The mutation of an alanine residue at position 218 to a threonine on the OXTR was associated with a fenotype related to ASD.\n",
    "\n",
    "In vitro experiments have shown a difference on the dynamics of the intracellular Ca<sup>2+</sup> between the OXTR-WT and OXTR-A218T.\n",
    "\n",
    "\n",
    "In order to give a better understand behind these difference we will use the SSB toolkit to fit a mathematical model of the OXTR signaling pathway to the observable experimental results.\n",
    "\n",
    "Since we want to simulate and study the dynamics of Ca<sup>2+</sup> release from the Endoplasmic reticulum and this internal Ca<sup>2+</sup> release is trigered by the G<sub>q</sub> pathway (which OXTR couples), we will use a combination of two prevously existing models: a model for the activation of the G<sub>q</sub> protein and a dynamic model of the IP<sub>3</sub>R action. See [(Mayer et al. 2022)](https://doi.org/10.1038/s41380-021-01241-8) for all the details.\n",
    "\n",
    "## Experimental Data\n",
    "\n",
    "<blockquote>In vitro evaluation of cellular Ca<sup>2+</sup> responses using Fura-2 Ca<sup>2+</sup> imaging (see figure <b>a</b> and <b>b</b>) revealed reduced basal cytosolic Ca<sup>2+</sup> levels in A218T cells compared to WT, both in the presence and absence of extracellular Ca<sup>2+</sup> (figure <b>c</b>). \n",
    "\n",
    "However, the amplitude of the OXT-induced Ca<sup>2+</sup> signal was higher in A218T cells compared with WT cells incubated in Ca<sup>2+</sup>-free Ringer (figure <b>d</b>). \n",
    "        \n",
    "The area under the curve revealed a cell line-specific effect showing a higher increase in the cytosolic Ca<sup>2+</sup> concentration upon OXT stimulation in A218T compared to WT cells (figure <b>e</b>). \n",
    "    \n",
    "The full width at half maximum, which reflects the kinetics of the OXT-induced Ca<sup>2+</sup> response, also differed significantly between the two cell lines irrespective of the bathing solution, indicating a prolonged OXT-induced Ca<sup>2+</sup> response in the A218T cells (figure <b>f</b>).\n",
    "\n",
    "\n",
    "<div style=\"padding-bottom:50px\">\n",
    "<img src=\"https://res.cloudinary.com/djz27k5hg/image/upload/v1640172296/SSBColab/OXT_results_vsvpns.png\" width=600/>\n",
    "</div>  \n",
    "\n",
    "</blockquote>\n",
    "\n",
    "\n"
   ]
  },
  {
   "cell_type": "markdown",
   "id": "16404990",
   "metadata": {},
   "source": [
    "## Modeling of the Ca<sup>2+</sup> concentration differences between WT and A218T OXTR\n",
    "\n",
    "Our mail goal is to use the <b>SSB toolkit</b> to rationalize the experimentally measured Ca<sup>2+</sup> concentrations with 100 nM OXT and in the absence of extracellular Ca<sup>2+</sup> (<b>figure e, blue bars</b>). \n",
    "\n",
    "Molecular modeling results had suggested that the A218T variant affects receptor activation (see [Mayer et al. 2022](https://doi.org/10.1038/s41380-021-01241-8) for all the details). This means that we could speculate that the variant may influence the kinetic parameters that rules the activation reaction of the receptor. \n",
    "\n",
    "Therefore we will simulate the OXTR signalling model by varying the forward kinetic constant of the reaction that describes Gq-protein binding to the receptor, which implicitly depends on receptor activation. \n",
    "\n",
    "To achienve this we will use the SSB toolkit built-in function `Simulation.FitModel()`. This function allows us to iteractivelly simulate the model untill to obtain the a desired ratio of the concentration of a signalling specie between a model simulated with modified parameters and a model simulated with reference parameters."
   ]
  },
  {
   "cell_type": "markdown",
   "id": "8bc1a2ab",
   "metadata": {},
   "source": [
    "At first place we need to set up the following parameters:\n",
    "* **fitting parameters**\n",
    "* **simulation parameters**\n",
    "* **pathway parameters**\n",
    "\n",
    "\n",
    "#### Fitting Parameters\n",
    "\n",
    "* expratio (flt)          --> experimental signalling specie concentration ratio\n",
    "* target_parameter (str)  --> kinetic parameter to be modified\n",
    "* maxiter  (int)          --> maximum number of iteration\n",
    "* seed     (flt)          --> ramdom seed for scaling the modified parameter\n",
    "* seed_incrementor (flt)  --> seed incrementor (each iteration will increment the seed by this value)\n",
    "* seed_decrementor (flt)  --> seed decrementor (each iteration will decrement the seed by this value)\n",
    "\n",
    "\n",
    "#### Simulation Parameters\n",
    "\n",
    "* ttotal   (int)     --> time of simulation in seconds\n",
    "* nsteps   (int)     --> number of time steps\n",
    "* pathway (str)      --> name of the signalling pathway \n",
    "* observable (str)   --> signalling specie to be measured\n",
    "\n",
    "#### Pahtway Parameters\n",
    "\n",
    "* time_in  (int)     --> simulation time at wich the equation will start to be simulated \n",
    "* time_out (int)     --> simulation time at wich the equation will stop to be simulated"
   ]
  },
  {
   "cell_type": "code",
   "execution_count": null,
   "id": "b007dfa0",
   "metadata": {},
   "outputs": [],
   "source": [
    "# we will start by creating a simulation instance.\n",
    "sim = ssb.Simulation.FitModel()"
   ]
  },
  {
   "cell_type": "code",
   "execution_count": null,
   "id": "4e1d1b92",
   "metadata": {},
   "outputs": [],
   "source": [
    "# configuration of simulation parameters\n",
    "sim.SetSimulationParameters(ttotal=250, \n",
    "                            nsteps=10000, \n",
    "                            pathway='OXTR_pathway', \n",
    "                            observable='Ca', \n",
    "                            pathway_parameters={'time_in':50, \n",
    "                                                'time_out':51})"
   ]
  },
  {
   "cell_type": "code",
   "execution_count": null,
   "id": "4cc4a960",
   "metadata": {},
   "outputs": [],
   "source": [
    "#Start the simulation\n",
    "sim.Run(expratio=1.13, \n",
    "        target_parameter='R_L_Gq_trimer_kf',\n",
    "        maxiter=20, \n",
    "        seed=0.2, \n",
    "        seed_incrementor=0.5, \n",
    "        seed_decrementor=0.1)"
   ]
  },
  {
   "cell_type": "markdown",
   "id": "bd653d12",
   "metadata": {},
   "source": [
    "We can now plot the curves, amplitudes, area under the curve (AUC), and the full width at half maximum (FWHM):"
   ]
  },
  {
   "cell_type": "code",
   "execution_count": null,
   "id": "d37084ed",
   "metadata": {},
   "outputs": [],
   "source": [
    "sim.ShowGraphs()"
   ]
  },
  {
   "cell_type": "markdown",
   "id": "ff3d7f41",
   "metadata": {},
   "source": [
    "## Congratulations! \n",
    "\n",
    "Congratulations on completing this tutorial notebook! If you enjoyed working through the tutorial, and want to continue working with SSBtoolkit, we encourage you to finish the rest of the tutorials in this series. \n",
    "\n",
    "## Cite Us\n",
    "\n",
    "If you use or adapt this tutorial for your own research projects please cite us.\n",
    "\n",
    "```\n",
    "@article{ribeiro_ssb_2022,\n",
    "    title={{SSB} toolkit: from molecular structure to subcellular signaling pathways.},\n",
    "    author={Ribeiro, Rui Pedro and Gossen, Jonas and Rossetti, Giulia and Giorgetti, Alejandro},\n",
    "    publisher={bioRxiv},\n",
    "    url={https://www.biorxiv.org/content/10.1101/2022.11.08.515595v1},\n",
    "    doi={10.1101/2022.11.08.515595},\n",
    "    year={2022}\n",
    "}\n",
    "```\n",
    "\n",
    "\n",
    "## Acknowledgments\n",
    "\n",
    "EU Human Brain Project (SGA1 and SGA2): This open source software was developed in part in the Human Brain Project funded from the European Union's Horizon 2020 Framework Programme for Research and Innovation under Specific Grant Agreements No 720270 and No. 78907 (Human Brain Project SGA1 and SGA2).\n",
    "\n",
    "<div style=\"padding-bottom:50px\">\n",
    "<img src=\"https://res.cloudinary.com/djz27k5hg/image/upload/v1637657234/logos/HBP_horizontal_logo_qtcyzn.png\" width=\"300\" align='left' style=\"margin-left:50px\">\n",
    "    <img src=\"https://res.cloudinary.com/djz27k5hg/image/upload/v1642677502/logos/COFUNDED_EU_j2ktlp.jpg\" width=\"300\" align='left' style=\"margin-left:50px\">\n",
    "</div>  "
   ]
  }
 ],
 "metadata": {
  "kernelspec": {
   "display_name": "Python 3",
   "language": "python",
   "name": "python3"
  },
  "language_info": {
   "codemirror_mode": {
    "name": "ipython",
    "version": 3
   },
   "file_extension": ".py",
   "mimetype": "text/x-python",
   "name": "python",
   "nbconvert_exporter": "python",
   "pygments_lexer": "ipython3",
   "version": "3.8.10"
  },
  "vscode": {
   "interpreter": {
    "hash": "f5106a7df1aca81d027a662f3c4d70ef9fea3464588864be4c46d1e60135a17c"
   }
  }
 },
 "nbformat": 4,
 "nbformat_minor": 5
}
