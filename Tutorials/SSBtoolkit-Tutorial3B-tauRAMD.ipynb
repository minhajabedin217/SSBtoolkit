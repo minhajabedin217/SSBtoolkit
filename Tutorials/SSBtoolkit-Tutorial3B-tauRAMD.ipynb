{
 "cells": [
  {
   "cell_type": "markdown",
   "id": "2f31bbc8",
   "metadata": {},
   "source": [
    "<div style=\"padding-bottom:50px\">\n",
    "<img src=\"https://res.cloudinary.com/djz27k5hg/image/upload/v1637335206/logos/Logo_des_Forschungszentrums_J_C3_BClich_seit_2018_hcliq4.svg\"  width=250 align='left' style=\"margin-top:30px\"/>\n",
    "<img src=\"https://res.cloudinary.com/djz27k5hg/image/upload/v1637657234/logos/HBP_horizontal_logo_qtcyzn.png\" width=\"300\" align='left' style=\"margin-left:50px\">\n",
    "<img src=\"https://res.cloudinary.com/djz27k5hg/image/upload/v1637333672/logos/ebrains_logo_swnlzv.png\" width=\"280\" align='left' style=\"margin-left:50px; margin-top:25px\">\n",
    "</div>  \n",
    "<br><br><br><br>\n",
    "<br>\n",
    "\n",
    "# Simulation of dose-response cruves of agonsits using data acquired with tauRAMD \n",
    "\n",
    "\n",
    "In this notebook we will a simulate mathematical model of a signaling pathway to obtain dose-response curves using kinetic values obtained with the <b>tauRAMD</b> tool.\n",
    "\n",
    "<b>tauRAMD</b> is a tool developed by *Kokh et al.*:\n",
    "<blockquote>\n",
    "\n",
    "Estimation of Drug-Target Residence Times by τ-Random Acceleration Molecular Dynamics Simulations\n",
    "Daria B. Kokh, Marta Amaral, Joerg Bomke, Ulrich Grädler, Djordje Musil, Hans-Peter Buchstaller, Matthias K. Dreyer, Matthias Frech, Maryse Lowinski, Francois Vallee, Marc Bianciotto, Alexey Rak, and Rebecca C. Wade\n",
    "Journal of Chemical Theory and Computation 2018 14 (7), 3859-3869\n",
    "DOI: 10.1021/acs.jctc.8b00230\n",
    " \n",
    "<a href=\"https://doi.org/10.1021/acs.jctc.8b00230\" target=\"_bank\"> https://doi.org/10.1021/acs.jctc.8b002308</a>\n",
    "</blockquote>\n",
    "\n",
    "This tutorial and the rest in this sequence can be done in Google colab. If you'd like to open this notebook in colab, you can use the following link.\n",
    "\n",
    "<div style='padding:15px'>\n",
    "<a href=\"https://colab.research.google.com/github/rribeiro-sci/SSBtoolkit/blob/main/SSBtoolkit-Tutorial3B-tauRAMD.ipynb\" target=\"_blank\">\n",
    "<img alt=\"Colab\" src=\"https://res.cloudinary.com/djz27k5hg/image/upload/v1637335713/badges/colab-badge_hh0uyl.svg\" height=\"25\" style=\"margin:20px\">\n",
    "</a>\n",
    "</div>\n",
    "\n",
    "## Installing the SSB toolkit library"
   ]
  },
  {
   "cell_type": "code",
   "execution_count": null,
   "id": "4efcacf8",
   "metadata": {},
   "outputs": [],
   "source": [
    "!pip install ssbtoolkit"
   ]
  },
  {
   "cell_type": "markdown",
   "id": "60583fea",
   "metadata": {},
   "source": [
    "### Importing Dependencies"
   ]
  },
  {
   "cell_type": "code",
   "execution_count": null,
   "id": "3a595339",
   "metadata": {},
   "outputs": [],
   "source": [
    "import numpy as np\n",
    "import pandas as pd\n",
    "import ssbtoolkit as ssb"
   ]
  },
  {
   "cell_type": "markdown",
   "id": "97e02b59",
   "metadata": {},
   "source": [
    "## Calculate residence times with tauRAMD"
   ]
  },
  {
   "cell_type": "markdown",
   "id": "18d52cea",
   "metadata": {},
   "source": [
    "To calculate residence times with tauRAMD we have to have the RAMD simulations already performed.\n",
    "\n",
    "In this tutorial we will use the pre-performed  RAMD simulations (4 replicas with 15 trajectories per replica) for 2 different agonists of the Adenosine A2A receptor:\n",
    "- Adenosine\n",
    "- Neca\n",
    "\n",
    "The times.dat files can been found in `examples/tauRAMD/A2A/`.\n"
   ]
  },
  {
   "cell_type": "code",
   "execution_count": null,
   "id": "0f00df43",
   "metadata": {},
   "outputs": [],
   "source": [
    "%%bash\n",
    "if [ ! -d \"SSBtoolkit/\" ]; then\n",
    "  git clone https://github.com/rribeiro-sci/SSBtoolkit.git --quiet\n",
    "fi"
   ]
  },
  {
   "cell_type": "code",
   "execution_count": null,
   "id": "099d60e9",
   "metadata": {},
   "outputs": [],
   "source": [
    "# we will start by creating a simulation instance for different ligands.\n",
    "\n",
    "tauADN = ssb.Utils.tauRAMD()\n",
    "tauNEC = ssb.Utils.tauRAMD()"
   ]
  },
  {
   "cell_type": "code",
   "execution_count": null,
   "id": "7ce3b55c",
   "metadata": {},
   "outputs": [],
   "source": [
    "# we can run the tRAMD for each ligand\n",
    "tauADN.Run(prefix='SSBtoolkit/example/tauRAMD/A2A/times_ADN')\n",
    "tauNEC.Run(prefix='SSBtoolkit/example/tauRAMD/A2A/times_NEC')"
   ]
  },
  {
   "cell_type": "markdown",
   "id": "0e8ae29b",
   "metadata": {},
   "source": [
    "The representation of the bootstrapping output and statistics are accessible through the functions:\n",
    "- `Utils.tauRAMD.PlotRTStats()`\n",
    "- `Utils.tauRAMD.PlotRTDistribuitons()`\n",
    "    "
   ]
  },
  {
   "cell_type": "code",
   "execution_count": null,
   "id": "831b7312",
   "metadata": {},
   "outputs": [],
   "source": [
    "tauADN.PlotRTStats()"
   ]
  },
  {
   "cell_type": "code",
   "execution_count": null,
   "id": "30d342e2",
   "metadata": {},
   "outputs": [],
   "source": [
    "tauADN.PlotRTDistribuitons()"
   ]
  },
  {
   "cell_type": "markdown",
   "id": "3c20c5a5",
   "metadata": {},
   "source": [
    "The residence times from each replica can be accessed by the attibute `RTdataframe`:"
   ]
  },
  {
   "cell_type": "code",
   "execution_count": null,
   "id": "8b9d94a3",
   "metadata": {},
   "outputs": [],
   "source": [
    "tauADN.RTdataframe"
   ]
  },
  {
   "cell_type": "markdown",
   "id": "5b80e4ef",
   "metadata": {},
   "source": [
    "and the average residence time can be accessed by the attribute `RT`:"
   ]
  },
  {
   "cell_type": "code",
   "execution_count": null,
   "id": "c00e2b6b",
   "metadata": {},
   "outputs": [],
   "source": [
    "tauADN.RT"
   ]
  },
  {
   "cell_type": "markdown",
   "id": "9dd98b49",
   "metadata": {},
   "source": [
    "The residence time can be converted in k<sub>off</sub> by:\n",
    "\n",
    "$k_{off}=\\frac{1}{RT}$\n",
    "\n",
    "Let's create a  python dictonary with the calulated k<sub>off</sub> values fro each ligand:"
   ]
  },
  {
   "cell_type": "code",
   "execution_count": null,
   "id": "3d0cb2d6",
   "metadata": {},
   "outputs": [],
   "source": [
    "ligands = ['ADN', 'NEC']\n",
    "\n",
    "kinetic_parameters=[{'RL_koff':1/tauADN.RT},{'RL_koff':1/tauNEC.RT}]"
   ]
  },
  {
   "cell_type": "markdown",
   "id": "61cbf1b9",
   "metadata": {},
   "source": [
    "##  Preparation, Simulation and Analysis\n",
    "\n",
    "To obtain a dose-response curve from the simulation of signaling pathways, individual simulations of the pathway according to a series of ligand concentrations must be performed (as it would be done in the wet-lab).  \n",
    "\n",
    "To define an array of ligand concentrations we will use a geometric progression. The reason why we use a geometric progression is due to the impact of the dilution fraction on the accuracy of K<sub>d</sub> and EC<sub>50</sub>/IC<sub>50</sub> values experimentally estimated. This factor, that defines the spacing between the adjacent concentration values, has an impact on the concentration values that are on the linear portion of the curve. Therefore, using a geometric progression we can mimic the experimental conditions where each concentration equals to the power of 2 of the previous lowest concentration *([Sebaugh, J.L., 2011](https://doi.org/10.1002/pst.426))*\n",
    "\n",
    "<span style=\"color:black\"> ⚠️ WARNING: the SSB toolkit uses μM as default concentration units.</span>\n"
   ]
  },
  {
   "cell_type": "code",
   "execution_count": null,
   "id": "d8030846",
   "metadata": {},
   "outputs": [],
   "source": [
    "# setting the range of ligand concentration\n",
    "lig_conc_min = 1E-4 # μM\n",
    "lig_conc_max = 1E4  # μM\n",
    "lig_conc_range = np.geomspace(lig_conc_min, lig_conc_max, 20) # 20 concentration values\n",
    "\n",
    "# Setting receptor concentration\n",
    "receptor_conc = 1E-3 #μM\n",
    "\n",
    "# defining other simulation parameters:\n",
    "time = 10000  # time of simulation in seconds\n",
    "nsteps = 1000 # number of time steps\n"
   ]
  },
  {
   "cell_type": "markdown",
   "id": "46a7f3f1",
   "metadata": {},
   "source": [
    "## Selection of the signaling pathway \n",
    "\n",
    "The core of the SSB framework is, naturally, the mathematical models of the GPCRs' signaling pathways. \n",
    "\n",
    "Since G-protein sub-families are classified by their $\\alpha$ subunits, this classfication as been served to identify their signaling pathways:\n",
    "* G<sub>s</sub>\n",
    "* G<sub>i/o</sub>\n",
    "* G<sub>q/11</sub>\n",
    "* G<sub>12/13</sub>\n",
    "\n",
    "📖 See [The SSB toolkit](https://ssbtoolkit.readthedocs.io) documentation for more details.\n",
    "\n",
    "We can define manualy the G$\\alpha$ pathway we want to work with, or simply query our internal database of human GPCR pathways using the UNIPROT id of our receptor using the SSBtoolkit built-in function `Utils.GetGProtein()`. The UNIPROT id for the human Adenosine A2 receptot is [P29274](https://www.uniprot.org/uniprot/P29274)."
   ]
  },
  {
   "cell_type": "code",
   "execution_count": null,
   "id": "4db29d11",
   "metadata": {},
   "outputs": [],
   "source": [
    "# Selecting the signaling pathway \n",
    "uniprotID = 'P29274' # Adenosine A2 receptor Uniprot ID\n",
    "gprotein = ssb.Utils.GetGProtein(uniprotID)\n",
    "gprotein\n"
   ]
  },
  {
   "cell_type": "markdown",
   "id": "9b79bb4e",
   "metadata": {},
   "source": [
    "## Integration of ODEs \n",
    "\n",
    "After having defined all the simulation parameters we are ready to proceed with the simulations. A simulation of a methamatical model of a signaling pathway consists of the integration of a set of ordinary differential equations (ODEs) as function of time. Since each ODE represents a molecular event of the signaling pathway, when integrated over time, such equations can describe how the concentration of species inside the model changes over time.\n",
    "\n",
    "Because we are using kinetic values we have to set `kinetics=True` in the `Simulation.Activation.SetSimulationParameters()` instance. If we use option `kinetcs=True`, we also need to pass to the instance a dictionary of parameters, the one we had prepared before. \n"
   ]
  },
  {
   "cell_type": "code",
   "execution_count": null,
   "id": "5b726eb7",
   "metadata": {},
   "outputs": [],
   "source": [
    "#create a simulation instance.\n",
    "sim = ssb.Simulation.Activation()"
   ]
  },
  {
   "cell_type": "code",
   "execution_count": null,
   "id": "a91aeaea",
   "metadata": {},
   "outputs": [],
   "source": [
    "#Setting the simulation parameters\n",
    "sim.SetSimulationParameters(ligands=ligands, \n",
    "                            pathway=gprotein, \n",
    "                            receptor_conc=receptor_conc, \n",
    "                            lig_conc_range=lig_conc_range, \n",
    "                            ttotal=time, \n",
    "                            nsteps=nsteps,  \n",
    "                            binding_kinetics=True, \n",
    "                            binding_kinetic_parameters=kinetic_parameters)\n"
   ]
  },
  {
   "cell_type": "code",
   "execution_count": null,
   "id": "6a30d341",
   "metadata": {},
   "outputs": [],
   "source": [
    "#Running the simulation\n",
    "sim.Run()"
   ]
  },
  {
   "cell_type": "markdown",
   "id": "39d2dd3c",
   "metadata": {},
   "source": [
    "In the end, the concentration values of the species of the signaling pathway over the simulation time will be saved inside the instance.\n",
    "\n",
    "The response of a signaling pathway is, naturally, represented by the increase or decrease of one of the species described by the model. So, to predict the dose-response curve we need, firstly, to extract the maximum concentration value orbserved for one specie from each individual simulation (from the series of simulations for each ligand concentration). Then, such values will be fitted to a logistic regression. \n",
    "\n",
    "To achieve this, we will use the analysis attribute:"
   ]
  },
  {
   "cell_type": "code",
   "execution_count": null,
   "id": "d9b59f02",
   "metadata": {},
   "outputs": [],
   "source": [
    "sim.Analysis()"
   ]
  },
  {
   "cell_type": "markdown",
   "id": "ebca39a4",
   "metadata": {},
   "source": [
    "We can now to plot the dose-response curves:"
   ]
  },
  {
   "cell_type": "code",
   "execution_count": null,
   "id": "53bfafb5",
   "metadata": {},
   "outputs": [],
   "source": [
    "sim.ShowCurve()"
   ]
  },
  {
   "cell_type": "markdown",
   "id": "f7a9ec3d",
   "metadata": {},
   "source": [
    "Finnaly, from the dose-response curves we can interpolate the EC<sub>50</sub> values."
   ]
  },
  {
   "cell_type": "code",
   "execution_count": null,
   "id": "f8300a29",
   "metadata": {},
   "outputs": [],
   "source": [
    "sim.ShowPotency()"
   ]
  },
  {
   "cell_type": "markdown",
   "id": "37ce7d4e",
   "metadata": {},
   "source": [
    "💡 The potency predicted values can be exported as a python dictionary using the function `sim.PotencyToDict()` or saved in a csv file: `sim.PotencyToCSV()`. "
   ]
  },
  {
   "cell_type": "markdown",
   "id": "65febe37",
   "metadata": {},
   "source": [
    "## Congratulations! \n",
    "\n",
    "Congratulations on completing this tutorial notebook! If you enjoyed working through the tutorial, and want to continue working with SSBtoolkit, we encourage you to finish the rest of the tutorials in this series. \n",
    "\n",
    "## Cite Us\n",
    "\n",
    "If you use or adapt this tutorial for your own research projects please cite us.\n",
    "\n",
    "```\n",
    "@article{ribeiro_ssb_2022,\n",
    "    title={{SSB} toolkit: from molecular structure to subcellular signaling pathways.},\n",
    "    author={Ribeiro, Rui Pedro and Gossen, Jonas and Rossetti, Giulia and Giorgetti, Alejandro},\n",
    "    publisher={bioRxiv},\n",
    "    url={https://www.biorxiv.org/content/10.1101/2022.11.08.515595v1},\n",
    "    doi={10.1101/2022.11.08.515595},\n",
    "    year={2022}\n",
    "}\n",
    "```\n",
    "\n",
    "\n",
    "## Acknowledgments\n",
    "\n",
    "EU Human Brain Project (SGA1 and SGA2): This open source software was developed in part in the Human Brain Project funded from the European Union's Horizon 2020 Framework Programme for Research and Innovation under Specific Grant Agreements No 720270 and No. 78907 (Human Brain Project SGA1 and SGA2).\n",
    "\n",
    "<div style=\"padding-bottom:50px\">\n",
    "<img src=\"https://res.cloudinary.com/djz27k5hg/image/upload/v1637657234/logos/HBP_horizontal_logo_qtcyzn.png\" width=\"300\" align='left' style=\"margin-left:50px\">\n",
    "    <img src=\"https://res.cloudinary.com/djz27k5hg/image/upload/v1642677502/logos/COFUNDED_EU_j2ktlp.jpg\" width=\"300\" align='left' style=\"margin-left:50px\">\n",
    "</div>  "
   ]
  }
 ],
 "metadata": {
  "kernelspec": {
   "display_name": "Python 3.7.9 64-bit ('3.7.9')",
   "language": "python",
   "name": "python3"
  },
  "language_info": {
   "codemirror_mode": {
    "name": "ipython",
    "version": 3
   },
   "file_extension": ".py",
   "mimetype": "text/x-python",
   "name": "python",
   "nbconvert_exporter": "python",
   "pygments_lexer": "ipython3",
   "version": "3.7.9"
  },
  "vscode": {
   "interpreter": {
    "hash": "f5106a7df1aca81d027a662f3c4d70ef9fea3464588864be4c46d1e60135a17c"
   }
  }
 },
 "nbformat": 4,
 "nbformat_minor": 5
}
