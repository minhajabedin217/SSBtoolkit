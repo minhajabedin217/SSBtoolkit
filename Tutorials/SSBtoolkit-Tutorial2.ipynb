{
 "cells": [
  {
   "cell_type": "markdown",
   "id": "47f44294",
   "metadata": {},
   "source": [
    "<div style=\"padding-bottom:50px\">\n",
    "<img src=\"https://res.cloudinary.com/djz27k5hg/image/upload/v1637335206/logos/Logo_des_Forschungszentrums_J_C3_BClich_seit_2018_hcliq4.svg\"  width=250 align='left' style=\"margin-top:30px\"/>\n",
    "<img src=\"https://res.cloudinary.com/djz27k5hg/image/upload/v1637657234/logos/HBP_horizontal_logo_qtcyzn.png\" width=\"300\" align='left' style=\"margin-left:50px\">\n",
    "<img src=\"https://res.cloudinary.com/djz27k5hg/image/upload/v1637333672/logos/ebrains_logo_swnlzv.png\" width=\"280\" align='left' style=\"margin-left:50px; margin-top:25px\">\n",
    "</div> \n",
    "\n",
    "<br><br><br><br>\n",
    "<br>\n",
    "\n",
    "# Simulation of dose-response curves of antagonists using affinity values\n",
    "\n",
    "In this tutorial we will simulate a mathematical model of a signaling pathway to obtain dose-response curves of antagonists, from wich their *potencies (IC$_{50}$)* can be infered. \n",
    "\n",
    "\n",
    "<div style='padding:15px'>\n",
    "<a href=\"https://colab.research.google.com/github/rribeiro-sci/SSBtoolkit/blob/main/SSBtoolkit-Tutorial2.ipynb\" target=\"_blank\">\n",
    "<img alt=\"Colab\" src=\"https://res.cloudinary.com/djz27k5hg/image/upload/v1637335713/badges/colab-badge_hh0uyl.svg\" height=\"25\" style=\"margin:20px\">\n",
    "</a>\n",
    "</div>  \n"
   ]
  },
  {
   "cell_type": "markdown",
   "id": "f3721aa6",
   "metadata": {},
   "source": [
    "## Installing the SSB toolkit library"
   ]
  },
  {
   "cell_type": "code",
   "execution_count": null,
   "id": "6290267a",
   "metadata": {},
   "outputs": [],
   "source": [
    "!pip install ssbtoolkit"
   ]
  },
  {
   "cell_type": "markdown",
   "id": "1d7a5524",
   "metadata": {},
   "source": [
    "### Importing sependencies"
   ]
  },
  {
   "cell_type": "code",
   "execution_count": null,
   "id": "19fb8a0b",
   "metadata": {},
   "outputs": [],
   "source": [
    "import ssbtoolkit as ssb\n",
    "import numpy as np\n",
    "import pandas as pd"
   ]
  },
  {
   "cell_type": "markdown",
   "id": "de2b73ec",
   "metadata": {},
   "source": [
    "## Loading experimental data"
   ]
  },
  {
   "cell_type": "markdown",
   "id": "f1363405",
   "metadata": {},
   "source": [
    "Once the SSB environment is set up we are ready to start to simulate.\n",
    "\n",
    "We will begin by loading the affinity data of the Adenosine 2A receptor natural ligand (the adenosine) as well as   of some antagonists. The experimental values were taken from *[Guide to Pharmacology](https://www.guidetopharmacology.org/GRAC/ObjectDisplayForward?objectId=19&familyId=3&familyType=GPCR) website*. This data can be downloaded directly from the repository."
   ]
  },
  {
   "cell_type": "code",
   "execution_count": null,
   "id": "0fe7bee1",
   "metadata": {},
   "outputs": [],
   "source": [
    "!wget https://raw.githubusercontent.com/rribeiro-sci/SSBtoolkit/main/example/A2AR_antagonists_data.csv"
   ]
  },
  {
   "cell_type": "code",
   "execution_count": null,
   "id": "04434f16",
   "metadata": {},
   "outputs": [],
   "source": [
    "data = pd.read_csv('2AR_antagonists_data.csv')\n",
    "data"
   ]
  },
  {
   "cell_type": "markdown",
   "id": "7e190d72",
   "metadata": {},
   "source": [
    "In <b>Tutorial1</b> the affinity values were directly used to calculate the fraction of occupied receptors according to the occupancy theory. However, such protocol is just valid if we are dealing with agonists. In this tutorial, instead, we intend to simulate a competitive antagonism. By definition, a competitive antagonist is a drug that inhibits the action of an agonist, having no effect in the absence of the agonist.\n",
    "\n",
    "Therefore, applying the following equation, we can calculate the fraction of occupied receptors by the agonists in the presence of an antaogist:\n",
    "\n",
    "$\\frac{[L_1R]}{{R_{total}}}=\\frac{[L_1]}{[L_1]+K_{d_{L1}}\\big(1+\\frac{[L_2]}{K_{d_{L2}}}\\big)}$\n",
    "\n",
    "Experimentally, studies of antagonists are normally conducted through radioligand binding assays. In this kind of assays, the receptor is saturated first with the agonist, and then, aliquotes of antagonist are applied to the system in order to reproduce an inhibition curve. \n",
    "\n",
    "To reproduce this experiment *in silico* we have to begin with the calculation of the concentration value of the radioligand/agonist (in our case the adenosine) that saturates the receptor. To achieve this, we will use the SSBtoolkit built-in function `Binding.Bind()` to obtain a ligand-receptor binding curve. After we will use the `SubMaxConcentration()`method to interpolate the submaximal (saturate) concentration value.\n",
    "\n",
    "📖 See [The SSB toolkit](https://github.com/rribeiro-sci/SSBtoolkit/blob/main/docs/ssb_toolkit.md) documentation for more details."
   ]
  },
  {
   "cell_type": "code",
   "execution_count": null,
   "id": "f6ee67bf",
   "metadata": {},
   "outputs": [],
   "source": [
    "# Setting the ligand concentration range\n",
    "lig_conc_min = 1E-4 # μM\n",
    "lig_conc_max = 1E2 # μM\n",
    "lig_conc_range = np.geomspace(lig_conc_min, lig_conc_max, 20)\n",
    "\n",
    "# Setting receptor concentration\n",
    "receptor_conc = 1E-3 #μM\n",
    "\n",
    "# Getting adenosine pKi from experimental data\n",
    "adenosine_pKi = data[data.Compound == 'adenosine'].pKi.item()"
   ]
  },
  {
   "cell_type": "code",
   "execution_count": null,
   "id": "62d2a3e1",
   "metadata": {},
   "outputs": [],
   "source": [
    "# To obtain the ligand-receptor binding curve for adenosine we will start by initiating a binding instance\n",
    "adenosine_binding = ssb.Binding()\n",
    "\n",
    "# Performing the binding calculation\n",
    "adenosine_binding.Bind(receptor_conc=receptor_conc, lig_conc_range=lig_conc_range, pKd=adenosine_pKi)\n",
    "\n",
    "#Extraction of the submaximal concentration value\n",
    "adenosine_binding.SubMaxConcentration()\n",
    "\n",
    "#Plot of the ligand-receptor binding curve\n",
    "adenosine_binding.ShowCurve()"
   ]
  },
  {
   "cell_type": "markdown",
   "id": "1574b00d",
   "metadata": {},
   "source": [
    "The submaximal concentration value can be accessed by the `submax_concentration` attribute"
   ]
  },
  {
   "cell_type": "code",
   "execution_count": null,
   "id": "7da98638",
   "metadata": {},
   "outputs": [],
   "source": [
    "submax = adenosine_binding.submax_concentration\n",
    "submax"
   ]
  },
  {
   "cell_type": "markdown",
   "id": "6c08db6c",
   "metadata": {},
   "source": [
    "Once we have the submaximal concentration value of adenosine that saturates the receptor we can calculate the fraction of receptors occupied by the adenosine in the presence of a range of concentration of antagonists. This calculation is automatically done during the simulation."
   ]
  },
  {
   "cell_type": "markdown",
   "id": "4cea3863",
   "metadata": {},
   "source": [
    "## Selection of  the signaling pathway \n",
    "\n",
    "The core of the SSB toolkit is, naturally, the mathematical models of the signaling pathways. \n",
    "\n",
    "Since G-protein sub-families are classified by their $\\alpha$ subunits, this classfication as been served to identify their signaling pathways:\n",
    "* G<sub>s</sub>\n",
    "* G<sub>i/o</sub>\n",
    "* G<sub>q/11</sub>\n",
    "* G<sub>12/13</sub>\n",
    "\n",
    "📖 See [The SSB toolkit](https://github.com/rribeiro-sci/SSBtoolkit/blob/main/docs/ssb_toolkit.md) documentation for more details.\n",
    "\n",
    "We can define manualy the G$\\alpha$ pathway we want to work with, or simply query our internal database of human GPCR pathways using the UNIPROT id of our receptor. The UNIPROT id for the human Adenosine A2 receptot is [P29274](https://www.uniprot.org/uniprot/P29274)."
   ]
  },
  {
   "cell_type": "code",
   "execution_count": null,
   "id": "4082b7bc",
   "metadata": {},
   "outputs": [],
   "source": [
    "uniprotID = 'P29274'\n",
    "gprotein = ssb.Utils.GetGProtein(uniprotID)\n",
    "gprotein"
   ]
  },
  {
   "cell_type": "markdown",
   "id": "22e1a045",
   "metadata": {},
   "source": [
    "<span style=\"color:black\">⚠️ WARNING: our toolkit was specifically design for human GPCRs. The quering for pathways for GPCRs other than Human may be included in the future. However you want to study a non-human GPCR you can still use the SSB toolkit by setting manually the G$\\alpha$ pathway.</span>"
   ]
  },
  {
   "cell_type": "markdown",
   "id": "132e0f01",
   "metadata": {},
   "source": [
    "##  Preparation, Simulation and Analysis\n",
    "\n",
    "To obtain a dose-response curve from the simulation of signaling pathways, individual simulations of the pathway according to a series of ligand concentrations must be performed (as it would be done in the wet-lab).  \n",
    "\n",
    "To define an array of ligand concentrations we will use a geometric progression. The reason why we use a geometric progression is due to the impact of the dilution fraction on the accuracy of K<sub>d</sub> and EC<sub>50</sub>/IC<sub>50</sub> values experimentally estimated. This factor, that defines the spacing between the adjacent concentration values, has an impact on the concentration values that are on the linear portion of the curve. Therefore, using a geometric progression we can mimic the experimental conditions where each concentration equals to the power of 2 of the previous lowest concentration *([Sebaugh, J.L., 2011](https://doi.org/10.1002/pst.426))*\n",
    "\n",
    "<span style=\"color:black\"> ⚠️ WARNING: the SSB toolkit uses μM as default concentration units.</span>\n"
   ]
  },
  {
   "cell_type": "code",
   "execution_count": null,
   "id": "dc61e7c6",
   "metadata": {},
   "outputs": [],
   "source": [
    "# the range of ligand concentration\n",
    "lig_conc_min = 1E-4 # μM\n",
    "lig_conc_max = 1E4  # μM\n",
    "lig_conc_range = np.geomspace(lig_conc_min, lig_conc_max, 20) # 20 concentration values\n",
    "\n",
    "# Setting receptor concentration\n",
    "receptor_conc = 1E-3 #μM\n",
    "\n",
    "# defining other simulation parameters:\n",
    "time = 10000  # time of simulation in seconds\n",
    "nsteps = 1000   # number of time steps"
   ]
  },
  {
   "cell_type": "markdown",
   "id": "53e52b1b",
   "metadata": {},
   "source": [
    "## Integration of ODEs \n",
    "\n",
    "After having defined all the simulation parameters we are ready to proceed with the simulations. A simulation of a methamatical model of a signaling pathway consists of the integration of a set of ordinary differential equations (ODEs) as function of time. Since each ODE represents a molecular event of the signaling pathway, when integrated over time, such equations can describe how the concentration of species inside the model changes over time. The key point of this tutorial is the use of the drug-receptor affinity value (K<sub>d</sub>) to fire up the model. With the K<sub>d</sub> values one can calculate the fraction of receptors that are occupied by the ligand in the equilibrium and, according to the *occupancy theory*, the fraction of occupied receptors represents the concentration of activated receptors in the equilibrium *([Kenakin T., 2004 ](https://doi.org/10.1016/j.tips.2004.02.012))*. 📖 Read the [Docs](https://ssbtoolkit.readthedocs.io/) for more details.\n",
    "\n",
    "\n",
    "In this tutorial we want to simulate dose-response curves of antaoginsts towards Adenosine A2 receptor, so, we will use the SSBtoolkit built-in class `Simulation.Inhibition()`. \n",
    "\n",
    "\n",
    "<span style='color:black'>ℹ️ If you want study agonist only follow the tutorial [Simulation of dose-responses curves from affinity values](https://github.com/rribeiro-sci/SSBtoolkit/blob/main/SSBtoolkit-Tutorial1.ipynb).</span>\n"
   ]
  },
  {
   "cell_type": "code",
   "execution_count": null,
   "id": "a8c6d0e1",
   "metadata": {},
   "outputs": [],
   "source": [
    "# we will start by creating a simulation instance.\n",
    "sim = ssb.Simulation.Inhibition()"
   ]
  },
  {
   "cell_type": "code",
   "execution_count": null,
   "id": "91624648",
   "metadata": {},
   "outputs": [],
   "source": [
    "# configuration of simulation parameters\n",
    "sim.SetSimulationParameters(agonist='adenosine',\n",
    "                            agonist_affinity=adenosine_pKi,\n",
    "                            agonist_submaximal_conc=submax,\n",
    "                            antagonists=data.Compound.to_list()[1:3],\n",
    "                            antagonists_affinities=data.pKi.to_list()[1:3], \n",
    "                            lig_conc_range=lig_conc_range, \n",
    "                            receptor_conc=receptor_conc, \n",
    "                            pathway=gprotein, \n",
    "                            ttotal=time, \n",
    "                            nsteps=nsteps, \n",
    "                            binding_kinetics=False, \n",
    "                            binding_kinetic_parameters=None)"
   ]
  },
  {
   "cell_type": "code",
   "execution_count": null,
   "id": "b52e53c4",
   "metadata": {},
   "outputs": [],
   "source": [
    "#Start the simulation\n",
    "sim.Run()"
   ]
  },
  {
   "cell_type": "markdown",
   "id": "2103c49c",
   "metadata": {},
   "source": [
    "In the end, the concentration values of the species of the signaling pathway over the simulation time will be saved inside the instance.\n",
    "\n",
    "The response of a signaling pathway is, naturally, represented by the increase or decrease of one of the species described by the model. So, to predict the dose-response curve we need, firstly, to extract the maximum concentration value orbserved for one specie from each individual simulation (from the series of simulations for each ligand concentration). Then, such values will be fitted to a logistic regression. \n",
    "\n",
    "To achieve this, we will use the analysis function:"
   ]
  },
  {
   "cell_type": "code",
   "execution_count": null,
   "id": "e8dff1c8",
   "metadata": {},
   "outputs": [],
   "source": [
    "sim.Analysis()"
   ]
  },
  {
   "cell_type": "markdown",
   "id": "fbdd0773",
   "metadata": {},
   "source": [
    "We can now to plot the dose-response curves:"
   ]
  },
  {
   "cell_type": "code",
   "execution_count": null,
   "id": "4cbb0861",
   "metadata": {},
   "outputs": [],
   "source": [
    "sim.ShowCurve()"
   ]
  },
  {
   "cell_type": "markdown",
   "id": "c3392404",
   "metadata": {},
   "source": [
    "Finnaly, from the dose-response curves we can interpolate the IC<sub>50</sub> values.\n"
   ]
  },
  {
   "cell_type": "code",
   "execution_count": null,
   "id": "f5f55d6d",
   "metadata": {},
   "outputs": [],
   "source": [
    "sim.ShowPotency()"
   ]
  },
  {
   "cell_type": "markdown",
   "id": "e8da4874",
   "metadata": {},
   "source": [
    "💡 The potency predicted values can be exported as a python dictionary using the function `sim.PotencyToDict()` or saved in a csv file: `sim.PotencyToCSV()`. "
   ]
  },
  {
   "cell_type": "markdown",
   "id": "f2f97975",
   "metadata": {},
   "source": [
    "## Congratulations!\n",
    "\n",
    "Congratulations on completing this tutorial notebook! If you enjoyed working through the tutorial, and want to continue working with SSB toolkit, we encourage you to finish the rest of the tutorials in this series. \n",
    "\n",
    "## Cite Us\n",
    "\n",
    "If you use or adapt this tutorial for your own research projects please cite us.\n",
    "\n",
    "```\n",
    "@article{ribeiro_ssb_2022,\n",
    "    title={{SSB} toolkit: from molecular structure to subcellular signaling pathways.},\n",
    "    author={Ribeiro, Rui Pedro and Gossen, Jonas and Rossetti, Giulia and Giorgetti, Alejandro},\n",
    "    publisher={bioRxiv},\n",
    "    url={https://www.biorxiv.org/content/10.1101/2022.11.08.515595v1},\n",
    "    doi={10.1101/2022.11.08.515595},\n",
    "    year={2022}\n",
    "}\n",
    "```\n",
    "\n",
    "\n",
    "## Acknowledgments\n",
    "\n",
    "EU Human Brain Project (SGA1 and SGA2): This open source software was developed in part in the Human Brain Project funded from the European Union's Horizon 2020 Framework Programme for Research and Innovation under Specific Grant Agreements No 720270 and No. 78907 (Human Brain Project SGA1 and SGA2).\n",
    "\n",
    "<div style=\"padding-bottom:50px\">\n",
    "<img src=\"https://res.cloudinary.com/djz27k5hg/image/upload/v1637657234/logos/HBP_horizontal_logo_qtcyzn.png\" width=\"300\" align='left' style=\"margin-left:50px\">\n",
    "    <img src=\"https://res.cloudinary.com/djz27k5hg/image/upload/v1642677502/logos/COFUNDED_EU_j2ktlp.jpg\" width=\"300\" align='left' style=\"margin-left:50px\">\n",
    "</div>  "
   ]
  }
 ],
 "metadata": {
  "kernelspec": {
   "display_name": "Python 3 (ipykernel)",
   "language": "python",
   "name": "python3"
  },
  "language_info": {
   "codemirror_mode": {
    "name": "ipython",
    "version": 3
   },
   "file_extension": ".py",
   "mimetype": "text/x-python",
   "name": "python",
   "nbconvert_exporter": "python",
   "pygments_lexer": "ipython3",
   "version": "3.9.13"
  }
 },
 "nbformat": 4,
 "nbformat_minor": 5
}
